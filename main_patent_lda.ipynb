{
 "cells": [
  {
   "cell_type": "code",
   "execution_count": 1,
   "metadata": {},
   "outputs": [],
   "source": [
    "# import standard libraries\n",
    "import os\n",
    "import numpy as np\n",
    "# import third-party libraries\n",
    "import gensim\n",
    "from gensim import corpora\n",
    "import pandas as pd\n",
    "# import local libraries"
   ]
  },
  {
   "cell_type": "markdown",
   "metadata": {},
   "source": [
    "# Topic extraction"
   ]
  },
  {
   "cell_type": "code",
   "execution_count": 2,
   "metadata": {},
   "outputs": [],
   "source": [
    "# load data\n",
    "patents = pd.read_csv('data/patents/clean/patents.csv.gz', compression='gzip')"
   ]
  },
  {
   "cell_type": "code",
   "execution_count": 3,
   "metadata": {},
   "outputs": [],
   "source": [
    "patents['text'] = patents['text'].apply(lambda x: x.split(' '))"
   ]
  },
  {
   "cell_type": "code",
   "execution_count": 4,
   "metadata": {},
   "outputs": [],
   "source": [
    "# create list of tokens\n",
    "all_text = list(patents['text'].values)"
   ]
  },
  {
   "cell_type": "code",
   "execution_count": 5,
   "metadata": {},
   "outputs": [],
   "source": [
    "# create our dictionary and corpus from patent text\n",
    "dictionary = corpora.Dictionary(all_text)\n",
    "corpus = [dictionary.doc2bow(text) for text in all_text]"
   ]
  },
  {
   "cell_type": "code",
   "execution_count": 20,
   "metadata": {},
   "outputs": [],
   "source": [
    "# create lda model\n",
    "num_topics = 15\n",
    "filename = f'data/nlp/model{num_topics}.gensim'\n",
    "if not os.path.exists(filename):\n",
    "    ldamodel = gensim.models.ldamodel.LdaModel(corpus, num_topics=num_topics, id2word=dictionary, passes=15)\n",
    "    ldamodel.save(filename)\n",
    "else:\n",
    "    ldamodel = gensim.models.ldamodel.LdaModel.load(filename)"
   ]
  },
  {
   "cell_type": "code",
   "execution_count": 26,
   "metadata": {
    "scrolled": false
   },
   "outputs": [
    {
     "name": "stdout",
     "output_type": "stream",
     "text": [
      "(0, '0.130*\"compound\" + 0.048*\"formula\" + 0.047*\"inhibitor\" + 0.040*\"composition\" + 0.034*\"pharmaceutically\"')\n",
      "\n",
      "(1, '0.081*\"form\" + 0.044*\"formulation\" + 0.035*\"pharmaceutical\" + 0.023*\"solid\" + 0.023*\"crystalline\"')\n",
      "\n",
      "(2, '0.026*\"vaccine\" + 0.021*\"adjuvant\" + 0.019*\"emulsion\" + 0.019*\"preparation\" + 0.016*\"immune\"')\n",
      "\n",
      "(3, '0.045*\"contact\" + 0.034*\"silicone\" + 0.028*\"hydrogel\" + 0.024*\"method\" + 0.019*\"polymer\"')\n",
      "\n",
      "(4, '0.060*\"device\" + 0.046*\"liquid\" + 0.039*\"medium\" + 0.034*\"crystal\" + 0.034*\"compound\"')\n",
      "\n",
      "(5, '0.030*\"system\" + 0.030*\"ophthalmic\" + 0.030*\"lens\" + 0.028*\"may\" + 0.021*\"device\"')\n",
      "\n",
      "(6, '0.071*\"protein\" + 0.065*\"cell\" + 0.044*\"polypeptide\" + 0.042*\"method\" + 0.035*\"composition\"')\n",
      "\n",
      "(7, '0.096*\"compound\" + 0.047*\"method\" + 0.040*\"composition\" + 0.032*\"treatment\" + 0.028*\"infection\"')\n",
      "\n",
      "(8, '0.039*\"least\" + 0.034*\"process\" + 0.023*\"mold\" + 0.021*\"particle\" + 0.018*\"method\"')\n",
      "\n",
      "(9, '0.058*\"agent\" + 0.058*\"composition\" + 0.036*\"use\" + 0.036*\"combination\" + 0.033*\"therapeutic\"')\n",
      "\n",
      "(10, '0.113*\"antibody\" + 0.057*\"human\" + 0.048*\"method\" + 0.021*\"anti\" + 0.019*\"also\"')\n",
      "\n",
      "(11, '0.045*\"disease\" + 0.043*\"disorder\" + 0.042*\"treatment\" + 0.027*\"receptor\" + 0.027*\"cancer\"')\n",
      "\n",
      "(12, '0.055*\"device\" + 0.052*\"injection\" + 0.046*\"dose\" + 0.035*\"member\" + 0.035*\"position\"')\n",
      "\n",
      "(13, '0.021*\"patient\" + 0.021*\"power\" + 0.016*\"zone\" + 0.015*\"sample\" + 0.014*\"profile\"')\n",
      "\n",
      "(14, '0.061*\"group\" + 0.036*\"composition\" + 0.035*\"derivative\" + 0.024*\"alkyl\" + 0.022*\"acid\"')\n",
      "\n"
     ]
    }
   ],
   "source": [
    "topics = ldamodel.print_topics(num_words=5)\n",
    "for topic in topics:\n",
    "    print(topic)\n",
    "    print()"
   ]
  },
  {
   "cell_type": "code",
   "execution_count": 27,
   "metadata": {},
   "outputs": [],
   "source": [
    "i = 1234"
   ]
  },
  {
   "cell_type": "code",
   "execution_count": 28,
   "metadata": {},
   "outputs": [
    {
     "name": "stdout",
     "output_type": "stream",
     "text": [
      "[(2, 0.21373625), (6, 0.12096776), (10, 0.29619247), (11, 0.34683844)]\n",
      "Anti-cancer antibodies with reduced complement fixation\n",
      "The invention provides modified antibodies directed against GD2 that have diminished complement fixation relative to antibody-dependent, cell-mediated cytotoxicity, which is maintained. The modified antibodies of the invention may be used in the treatment of tumors such as neuroblastoma, glioblastoma, melanoma, small-cell lung carcinoma, B-cell lymphoma, renal carcinoma, retinoblastoma, and other cancers of neuroectodermal origin.\n"
     ]
    }
   ],
   "source": [
    "new_doc_bow = dictionary.doc2bow(patents['text'][i])\n",
    "print(ldamodel.get_document_topics(new_doc_bow))\n",
    "print(patents['patent_title'][i])\n",
    "print(patents['patent_abstract'][i])"
   ]
  },
  {
   "cell_type": "code",
   "execution_count": null,
   "metadata": {},
   "outputs": [],
   "source": []
  }
 ],
 "metadata": {
  "kernelspec": {
   "display_name": "Python 3",
   "language": "python",
   "name": "python3"
  },
  "language_info": {
   "codemirror_mode": {
    "name": "ipython",
    "version": 3
   },
   "file_extension": ".py",
   "mimetype": "text/x-python",
   "name": "python",
   "nbconvert_exporter": "python",
   "pygments_lexer": "ipython3",
   "version": "3.8.5"
  }
 },
 "nbformat": 4,
 "nbformat_minor": 4
}
