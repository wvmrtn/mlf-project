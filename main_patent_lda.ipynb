{
 "cells": [
  {
   "cell_type": "code",
   "execution_count": 1,
   "metadata": {},
   "outputs": [],
   "source": [
    "# import standard libraries\n",
    "import os\n",
    "import numpy as np\n",
    "import pickle\n",
    "# import third-party libraries\n",
    "import gensim\n",
    "from gensim import corpora\n",
    "import pandas as pd\n",
    "# import local libraries"
   ]
  },
  {
   "cell_type": "markdown",
   "metadata": {},
   "source": [
    "# Topic extraction"
   ]
  },
  {
   "cell_type": "code",
   "execution_count": 2,
   "metadata": {},
   "outputs": [],
   "source": [
    "# load data\n",
    "patents = pd.read_csv('data/patents/clean/patents.csv.gz', compression='gzip')"
   ]
  },
  {
   "cell_type": "code",
   "execution_count": 3,
   "metadata": {},
   "outputs": [],
   "source": [
    "patents['text'] = patents['text'].apply(lambda x: x.split(' '))"
   ]
  },
  {
   "cell_type": "code",
   "execution_count": 4,
   "metadata": {},
   "outputs": [],
   "source": [
    "# create list of tokens\n",
    "all_text = list(patents['text'].values)"
   ]
  },
  {
   "cell_type": "code",
   "execution_count": 5,
   "metadata": {},
   "outputs": [],
   "source": [
    "# create our dictionary and corpus from patent text\n",
    "dictionary = corpora.Dictionary(all_text)\n",
    "corpus = [dictionary.doc2bow(text) for text in all_text]"
   ]
  },
  {
   "cell_type": "code",
   "execution_count": 6,
   "metadata": {},
   "outputs": [],
   "source": [
    "# create lda model\n",
    "num_topics = 200\n",
    "filename = f'data/nlp/model{num_topics}.gensim'\n",
    "if not os.path.exists(filename):\n",
    "    ldamodel = gensim.models.ldamodel.LdaModel(corpus, num_topics=num_topics, id2word=dictionary, passes=15)\n",
    "    ldamodel.save(filename)\n",
    "else:\n",
    "    ldamodel = gensim.models.ldamodel.LdaModel.load(filename)"
   ]
  },
  {
   "cell_type": "code",
   "execution_count": 7,
   "metadata": {
    "scrolled": false
   },
   "outputs": [
    {
     "name": "stdout",
     "output_type": "stream",
     "text": [
      "(0, '0.053*\"patient\" + 0.051*\"cell\" + 0.045*\"method\"')\n",
      "\n",
      "(1, '0.149*\"device\" + 0.059*\"electronic\" + 0.050*\"organic\"')\n",
      "\n",
      "(2, '0.106*\"solution\" + 0.097*\"formulation\" + 0.042*\"high\"')\n",
      "\n",
      "(3, '0.125*\"alia\" + 0.092*\"inter\" + 0.059*\"rheumatoid\"')\n",
      "\n",
      "(4, '0.100*\"light\" + 0.040*\"pigment\" + 0.038*\"chain\"')\n",
      "\n",
      "(5, '0.127*\"complement\" + 0.073*\"method\" + 0.052*\"disclosure\"')\n",
      "\n",
      "(6, '0.067*\"syndrome\" + 0.065*\"cancer\" + 0.064*\"disease\"')\n",
      "\n",
      "(7, '0.078*\"liquid\" + 0.075*\"medium\" + 0.057*\"display\"')\n",
      "\n",
      "(8, '0.090*\"least\" + 0.073*\"group\" + 0.036*\"space\"')\n",
      "\n",
      "(9, '0.082*\"form\" + 0.035*\"composition\" + 0.033*\"method\"')\n",
      "\n",
      "(10, '0.058*\"human\" + 0.041*\"non\" + 0.037*\"animal\"')\n",
      "\n",
      "(11, '0.202*\"antibody\" + 0.056*\"human\" + 0.050*\"method\"')\n",
      "\n",
      "(12, '0.064*\"protein\" + 0.052*\"composition\" + 0.042*\"method\"')\n",
      "\n",
      "(13, '0.073*\"derivative\" + 0.061*\"alkyl\" + 0.022*\"capsule\"')\n",
      "\n",
      "(14, '0.150*\"compound\" + 0.054*\"formula\" + 0.051*\"inhibitor\"')\n",
      "\n",
      "(15, '0.082*\"compound\" + 0.039*\"formula\" + 0.034*\"composition\"')\n",
      "\n",
      "(16, '0.069*\"system\" + 0.028*\"portion\" + 0.025*\"optical\"')\n",
      "\n",
      "(17, '0.084*\"receptor\" + 0.051*\"treatment\" + 0.048*\"antagonist\"')\n",
      "\n",
      "(18, '0.033*\"disease\" + 0.025*\"whether\" + 0.025*\"new\"')\n",
      "\n",
      "(19, '0.048*\"method\" + 0.046*\"contact\" + 0.042*\"lens\"')\n",
      "\n"
     ]
    }
   ],
   "source": [
    "topics = ldamodel.print_topics(num_topics=num_topics, num_words=3)\n",
    "for topic in topics:\n",
    "    print(topic)\n",
    "    print()"
   ]
  },
  {
   "cell_type": "code",
   "execution_count": 8,
   "metadata": {},
   "outputs": [],
   "source": [
    "i = 1234"
   ]
  },
  {
   "cell_type": "code",
   "execution_count": 9,
   "metadata": {},
   "outputs": [
    {
     "name": "stdout",
     "output_type": "stream",
     "text": [
      "[(11, 0.97432303)]\n",
      "High-affinity human antibodies to human protease-activated receptor-2\n",
      "The present invention provides antibodies that bind to protease-activated receptor-2 (PAR-2) and methods of using same. According to certain embodiments of the invention, the antibodies are fully human antibodies that bind to human PAR-2. The antibodies of the invention are useful for the treatment of diseases and disorders associated with one or more PAR-2 biological activities, including the treatment of pain conditions, inflammatory conditions and gastrointestinal conditions.\n"
     ]
    }
   ],
   "source": [
    "new_doc_bow = dictionary.doc2bow(patents['text'][i])\n",
    "print(ldamodel.get_document_topics(new_doc_bow, minimum_probability=0.1))\n",
    "print(patents['patent_title'][i])\n",
    "print(patents['patent_abstract'][i])"
   ]
  },
  {
   "cell_type": "code",
   "execution_count": 14,
   "metadata": {},
   "outputs": [],
   "source": [
    "# save dictionary\n",
    "filename = 'data/nlp/dictionary.pkl'\n",
    "if not os.path.exists(filename):\n",
    "    with open(filename, 'wb') as f:\n",
    "        pickle.dump(dictionary, f)"
   ]
  },
  {
   "cell_type": "code",
   "execution_count": null,
   "metadata": {},
   "outputs": [],
   "source": []
  }
 ],
 "metadata": {
  "kernelspec": {
   "display_name": "Python 3",
   "language": "python",
   "name": "python3"
  },
  "language_info": {
   "codemirror_mode": {
    "name": "ipython",
    "version": 3
   },
   "file_extension": ".py",
   "mimetype": "text/x-python",
   "name": "python",
   "nbconvert_exporter": "python",
   "pygments_lexer": "ipython3",
   "version": "3.7.9"
  },
  "varInspector": {
   "cols": {
    "lenName": 16,
    "lenType": 16,
    "lenVar": 40
   },
   "kernels_config": {
    "python": {
     "delete_cmd_postfix": "",
     "delete_cmd_prefix": "del ",
     "library": "var_list.py",
     "varRefreshCmd": "print(var_dic_list())"
    },
    "r": {
     "delete_cmd_postfix": ") ",
     "delete_cmd_prefix": "rm(",
     "library": "var_list.r",
     "varRefreshCmd": "cat(var_dic_list()) "
    }
   },
   "types_to_exclude": [
    "module",
    "function",
    "builtin_function_or_method",
    "instance",
    "_Feature"
   ],
   "window_display": false
  }
 },
 "nbformat": 4,
 "nbformat_minor": 4
}
