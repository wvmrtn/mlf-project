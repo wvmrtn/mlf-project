{
 "cells": [
  {
   "cell_type": "code",
   "execution_count": 1,
   "metadata": {},
   "outputs": [],
   "source": [
    "# import standard libraries\n",
    "import os\n",
    "import numpy as np\n",
    "# import third-party libraries\n",
    "import gensim\n",
    "from gensim import corpora\n",
    "import pandas as pd\n",
    "# import local libraries"
   ]
  },
  {
   "cell_type": "markdown",
   "metadata": {},
   "source": [
    "# Topic extraction"
   ]
  },
  {
   "cell_type": "code",
   "execution_count": 2,
   "metadata": {},
   "outputs": [],
   "source": [
    "# load data\n",
    "patents = pd.read_csv('data/patents/clean/patents.csv.gz', compression='gzip')"
   ]
  },
  {
   "cell_type": "code",
   "execution_count": 3,
   "metadata": {},
   "outputs": [],
   "source": [
    "patents['text'] = patents['text'].apply(lambda x: x.split(' '))"
   ]
  },
  {
   "cell_type": "code",
   "execution_count": 6,
   "metadata": {},
   "outputs": [],
   "source": [
    "# create list of tokens\n",
    "all_text = list(patents['text'].values)"
   ]
  },
  {
   "cell_type": "code",
   "execution_count": 7,
   "metadata": {},
   "outputs": [],
   "source": [
    "# create our dictionary and corpus from patent text\n",
    "dictionary = corpora.Dictionary(all_text)\n",
    "corpus = [dictionary.doc2bow(text) for text in all_text]"
   ]
  },
  {
   "cell_type": "code",
   "execution_count": 8,
   "metadata": {},
   "outputs": [],
   "source": [
    "# create lda model\n",
    "num_topics = 100\n",
    "filename = f'data/nlp/model{num_topics}.gensim'\n",
    "if not os.path.exists(filename):\n",
    "    ldamodel = gensim.models.ldamodel.LdaModel(corpus, num_topics=num_topics, id2word=dictionary, passes=15)\n",
    "    ldamodel.save(filename)\n",
    "else:\n",
    "    ldamodel = gensim.models.ldamodel.LdaModel.load(filename)"
   ]
  },
  {
   "cell_type": "code",
   "execution_count": 31,
   "metadata": {
    "scrolled": false
   },
   "outputs": [
    {
     "name": "stdout",
     "output_type": "stream",
     "text": [
      "(55, '0.203*\"quality\" + 0.065*\"obesity\" + 0.051*\"precursor\"')\n",
      "\n",
      "(98, '0.131*\"particle\" + 0.083*\"electrophoretic\" + 0.081*\"specificity\"')\n",
      "\n",
      "(54, '0.284*\"receptor\" + 0.097*\"antagonist\" + 0.088*\"compound\"')\n",
      "\n",
      "(33, '0.192*\"crystal\" + 0.167*\"liquid\" + 0.152*\"display\"')\n",
      "\n",
      "(65, '0.163*\"double\" + 0.094*\"estrogen\" + 0.085*\"biocompatible\"')\n",
      "\n",
      "(0, '0.216*\"form\" + 0.062*\"crystalline\" + 0.054*\"phenyl\"')\n",
      "\n",
      "(70, '0.074*\"mold\" + 0.070*\"polymerization\" + 0.056*\"thus\"')\n",
      "\n",
      "(30, '0.256*\"portion\" + 0.193*\"surface\" + 0.063*\"delivery\"')\n",
      "\n",
      "(76, '0.228*\"drug\" + 0.126*\"property\" + 0.065*\"especially\"')\n",
      "\n",
      "(64, '0.149*\"life\" + 0.113*\"hemoglobin\" + 0.083*\"activation\"')\n",
      "\n",
      "(69, '0.181*\"contact\" + 0.106*\"silicone\" + 0.086*\"hydrogel\"')\n",
      "\n",
      "(13, '0.124*\"chronic\" + 0.099*\"step\" + 0.097*\"phase\"')\n",
      "\n",
      "(96, '0.120*\"method\" + 0.066*\"composition\" + 0.058*\"host\"')\n",
      "\n",
      "(66, '0.150*\"capsule\" + 0.074*\"psa\" + 0.064*\"formulation\"')\n",
      "\n",
      "(40, '0.136*\"carrier\" + 0.123*\"skin\" + 0.083*\"oxide\"')\n",
      "\n",
      "(50, '0.095*\"composition\" + 0.081*\"vaccine\" + 0.070*\"immunogenic\"')\n",
      "\n",
      "(72, '0.103*\"channel\" + 0.091*\"condition\" + 0.052*\"disease\"')\n",
      "\n",
      "(2, '0.376*\"may\" + 0.104*\"time\" + 0.064*\"without\"')\n",
      "\n",
      "(4, '0.178*\"device\" + 0.098*\"electronic\" + 0.087*\"compound\"')\n",
      "\n",
      "(17, '0.147*\"compound\" + 0.109*\"inhibitor\" + 0.101*\"kinase\"')\n",
      "\n"
     ]
    }
   ],
   "source": [
    "topics = ldamodel.print_topics(num_topics=20, num_words=3)\n",
    "for topic in topics:\n",
    "    print(topic)\n",
    "    print()"
   ]
  },
  {
   "cell_type": "code",
   "execution_count": 10,
   "metadata": {},
   "outputs": [],
   "source": [
    "i = 1234"
   ]
  },
  {
   "cell_type": "code",
   "execution_count": 25,
   "metadata": {},
   "outputs": [
    {
     "name": "stdout",
     "output_type": "stream",
     "text": [
      "[(43, 0.12708373), (54, 0.1511013), (74, 0.462142), (91, 0.176979)]\n",
      "High-affinity human antibodies to human protease-activated receptor-2\n",
      "The present invention provides antibodies that bind to protease-activated receptor-2 (PAR-2) and methods of using same. According to certain embodiments of the invention, the antibodies are fully human antibodies that bind to human PAR-2. The antibodies of the invention are useful for the treatment of diseases and disorders associated with one or more PAR-2 biological activities, including the treatment of pain conditions, inflammatory conditions and gastrointestinal conditions.\n"
     ]
    }
   ],
   "source": [
    "new_doc_bow = dictionary.doc2bow(patents['text'][i])\n",
    "print(ldamodel.get_document_topics(new_doc_bow, minimum_probability=0.1))\n",
    "print(patents['patent_title'][i])\n",
    "print(patents['patent_abstract'][i])"
   ]
  },
  {
   "cell_type": "code",
   "execution_count": null,
   "metadata": {},
   "outputs": [],
   "source": []
  }
 ],
 "metadata": {
  "kernelspec": {
   "display_name": "Python 3",
   "language": "python",
   "name": "python3"
  },
  "language_info": {
   "codemirror_mode": {
    "name": "ipython",
    "version": 3
   },
   "file_extension": ".py",
   "mimetype": "text/x-python",
   "name": "python",
   "nbconvert_exporter": "python",
   "pygments_lexer": "ipython3",
   "version": "3.7.9"
  },
  "varInspector": {
   "cols": {
    "lenName": 16,
    "lenType": 16,
    "lenVar": 40
   },
   "kernels_config": {
    "python": {
     "delete_cmd_postfix": "",
     "delete_cmd_prefix": "del ",
     "library": "var_list.py",
     "varRefreshCmd": "print(var_dic_list())"
    },
    "r": {
     "delete_cmd_postfix": ") ",
     "delete_cmd_prefix": "rm(",
     "library": "var_list.r",
     "varRefreshCmd": "cat(var_dic_list()) "
    }
   },
   "types_to_exclude": [
    "module",
    "function",
    "builtin_function_or_method",
    "instance",
    "_Feature"
   ],
   "window_display": false
  }
 },
 "nbformat": 4,
 "nbformat_minor": 4
}
