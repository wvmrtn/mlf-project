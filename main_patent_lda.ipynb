{
 "cells": [
  {
   "cell_type": "code",
   "execution_count": 1,
   "metadata": {},
   "outputs": [],
   "source": [
    "# import standard libraries\n",
    "import os\n",
    "import numpy as np\n",
    "# import third-party libraries\n",
    "import gensim\n",
    "from gensim import corpora\n",
    "import pandas as pd\n",
    "# import local libraries"
   ]
  },
  {
   "cell_type": "markdown",
   "metadata": {},
   "source": [
    "# Topic extraction"
   ]
  },
  {
   "cell_type": "code",
   "execution_count": 2,
   "metadata": {},
   "outputs": [],
   "source": [
    "# load data\n",
    "patents = pd.read_csv('data/patents/clean/patents.csv.gz', compression='gzip')"
   ]
  },
  {
   "cell_type": "code",
   "execution_count": 3,
   "metadata": {},
   "outputs": [],
   "source": [
    "patents['text'] = patents['text'].apply(lambda x: x.split(' '))"
   ]
  },
  {
   "cell_type": "code",
   "execution_count": 4,
   "metadata": {},
   "outputs": [],
   "source": [
    "# create list of tokens\n",
    "all_text = list(patents['text'].values)"
   ]
  },
  {
   "cell_type": "code",
   "execution_count": 5,
   "metadata": {},
   "outputs": [],
   "source": [
    "# create our dictionary and corpus from patent text\n",
    "dictionary = corpora.Dictionary(all_text)\n",
    "corpus = [dictionary.doc2bow(text) for text in all_text]"
   ]
  },
  {
   "cell_type": "code",
   "execution_count": 14,
   "metadata": {},
   "outputs": [],
   "source": [
    "# create lda model\n",
    "num_topics = 10\n",
    "filename = f'data/nlp/model{num_topics}.gensim'\n",
    "if not os.path.exists(filename):\n",
    "    ldamodel = gensim.models.ldamodel.LdaModel(corpus, num_topics=num_topics, id2word=dictionary, passes=15)\n",
    "    ldamodel.save(filename)\n",
    "else:\n",
    "    ldamodel = gensim.models.ldamodel.LdaModel.load(filename)"
   ]
  },
  {
   "cell_type": "code",
   "execution_count": 15,
   "metadata": {
    "scrolled": false
   },
   "outputs": [
    {
     "name": "stdout",
     "output_type": "stream",
     "text": [
      "(0, '0.118*\"device\" + 0.062*\"electronic\" + 0.054*\"compound\"')\n",
      "\n",
      "(1, '0.037*\"antibody\" + 0.034*\"method\" + 0.031*\"complement\"')\n",
      "\n",
      "(2, '0.046*\"liquid\" + 0.040*\"medium\" + 0.036*\"display\"')\n",
      "\n",
      "(3, '0.041*\"light\" + 0.028*\"eculizumab\" + 0.020*\"least\"')\n",
      "\n",
      "(4, '0.073*\"compound\" + 0.044*\"composition\" + 0.040*\"receptor\"')\n",
      "\n",
      "(5, '0.039*\"composition\" + 0.035*\"method\" + 0.031*\"solution\"')\n",
      "\n",
      "(6, '0.081*\"antibody\" + 0.035*\"method\" + 0.029*\"cell\"')\n",
      "\n",
      "(7, '0.028*\"device\" + 0.021*\"system\" + 0.021*\"position\"')\n",
      "\n",
      "(8, '0.072*\"polymer\" + 0.041*\"human\" + 0.034*\"method\"')\n",
      "\n",
      "(9, '0.092*\"compound\" + 0.045*\"formula\" + 0.039*\"inhibitor\"')\n",
      "\n"
     ]
    }
   ],
   "source": [
    "topics = ldamodel.print_topics(num_topics=num_topics, num_words=3)\n",
    "for topic in topics:\n",
    "    print(topic)\n",
    "    print()"
   ]
  },
  {
   "cell_type": "code",
   "execution_count": 16,
   "metadata": {},
   "outputs": [],
   "source": [
    "i = 1234"
   ]
  },
  {
   "cell_type": "code",
   "execution_count": 17,
   "metadata": {},
   "outputs": [
    {
     "name": "stdout",
     "output_type": "stream",
     "text": [
      "[(1, 0.45028755), (4, 0.11288472), (6, 0.34613568)]\n",
      "High-affinity human antibodies to human protease-activated receptor-2\n",
      "The present invention provides antibodies that bind to protease-activated receptor-2 (PAR-2) and methods of using same. According to certain embodiments of the invention, the antibodies are fully human antibodies that bind to human PAR-2. The antibodies of the invention are useful for the treatment of diseases and disorders associated with one or more PAR-2 biological activities, including the treatment of pain conditions, inflammatory conditions and gastrointestinal conditions.\n"
     ]
    }
   ],
   "source": [
    "new_doc_bow = dictionary.doc2bow(patents['text'][i])\n",
    "print(ldamodel.get_document_topics(new_doc_bow, minimum_probability=0.1))\n",
    "print(patents['patent_title'][i])\n",
    "print(patents['patent_abstract'][i])"
   ]
  },
  {
   "cell_type": "code",
   "execution_count": null,
   "metadata": {},
   "outputs": [],
   "source": []
  }
 ],
 "metadata": {
  "kernelspec": {
   "display_name": "Python 3",
   "language": "python",
   "name": "python3"
  },
  "language_info": {
   "codemirror_mode": {
    "name": "ipython",
    "version": 3
   },
   "file_extension": ".py",
   "mimetype": "text/x-python",
   "name": "python",
   "nbconvert_exporter": "python",
   "pygments_lexer": "ipython3",
   "version": "3.7.9"
  },
  "varInspector": {
   "cols": {
    "lenName": 16,
    "lenType": 16,
    "lenVar": 40
   },
   "kernels_config": {
    "python": {
     "delete_cmd_postfix": "",
     "delete_cmd_prefix": "del ",
     "library": "var_list.py",
     "varRefreshCmd": "print(var_dic_list())"
    },
    "r": {
     "delete_cmd_postfix": ") ",
     "delete_cmd_prefix": "rm(",
     "library": "var_list.r",
     "varRefreshCmd": "cat(var_dic_list()) "
    }
   },
   "types_to_exclude": [
    "module",
    "function",
    "builtin_function_or_method",
    "instance",
    "_Feature"
   ],
   "window_display": false
  }
 },
 "nbformat": 4,
 "nbformat_minor": 4
}
