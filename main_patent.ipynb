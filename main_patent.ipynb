{
 "cells": [
  {
   "cell_type": "markdown",
   "metadata": {},
   "source": [
    "# patent-client"
   ]
  },
  {
   "cell_type": "code",
   "execution_count": 1,
   "metadata": {},
   "outputs": [],
   "source": [
    "from patent_client import USApplication"
   ]
  },
  {
   "cell_type": "code",
   "execution_count": 43,
   "metadata": {},
   "outputs": [],
   "source": [
    "aapl_apps = USApplication.objects.filter(first_named_applicant='pfizer')"
   ]
  },
  {
   "cell_type": "code",
   "execution_count": 44,
   "metadata": {},
   "outputs": [
    {
     "data": {
      "text/plain": [
       "884"
      ]
     },
     "execution_count": 44,
     "metadata": {},
     "output_type": "execute_result"
    }
   ],
   "source": [
    "len(aapl_apps)"
   ]
  },
  {
   "cell_type": "code",
   "execution_count": null,
   "metadata": {},
   "outputs": [],
   "source": []
  },
  {
   "cell_type": "code",
   "execution_count": 45,
   "metadata": {},
   "outputs": [
    {
     "ename": "ValidationError",
     "evalue": "{'inventors': {0: {'rank_no': ['Not a valid integer.']}}}",
     "output_type": "error",
     "traceback": [
      "\u001b[0;31m---------------------------------------------------------------------------\u001b[0m",
      "\u001b[0;31mValidationError\u001b[0m                           Traceback (most recent call last)",
      "\u001b[0;32m<ipython-input-45-c9ab228cece5>\u001b[0m in \u001b[0;36m<module>\u001b[0;34m\u001b[0m\n\u001b[1;32m      1\u001b[0m \u001b[0mpatented_app\u001b[0m \u001b[0;34m=\u001b[0m \u001b[0;34m[\u001b[0m\u001b[0;34m]\u001b[0m\u001b[0;34m\u001b[0m\u001b[0;34m\u001b[0m\u001b[0m\n\u001b[0;32m----> 2\u001b[0;31m \u001b[0;32mfor\u001b[0m \u001b[0mapp\u001b[0m \u001b[0;32min\u001b[0m \u001b[0maapl_apps\u001b[0m\u001b[0;34m:\u001b[0m\u001b[0;34m\u001b[0m\u001b[0;34m\u001b[0m\u001b[0m\n\u001b[0m\u001b[1;32m      3\u001b[0m     \u001b[0;32mfor\u001b[0m \u001b[0mt\u001b[0m \u001b[0;32min\u001b[0m \u001b[0mapp\u001b[0m\u001b[0;34m.\u001b[0m\u001b[0mtransactions\u001b[0m\u001b[0;34m:\u001b[0m\u001b[0;34m\u001b[0m\u001b[0;34m\u001b[0m\u001b[0m\n\u001b[1;32m      4\u001b[0m         \u001b[0;32mif\u001b[0m \u001b[0;34m'patent'\u001b[0m \u001b[0;32min\u001b[0m \u001b[0mt\u001b[0m\u001b[0;34m.\u001b[0m\u001b[0mdescription\u001b[0m\u001b[0;34m.\u001b[0m\u001b[0mlower\u001b[0m\u001b[0;34m(\u001b[0m\u001b[0;34m)\u001b[0m\u001b[0;34m:\u001b[0m\u001b[0;34m\u001b[0m\u001b[0;34m\u001b[0m\u001b[0m\n\u001b[1;32m      5\u001b[0m             \u001b[0mpatented_app\u001b[0m\u001b[0;34m.\u001b[0m\u001b[0mappend\u001b[0m\u001b[0;34m(\u001b[0m\u001b[0mapp\u001b[0m\u001b[0;34m)\u001b[0m\u001b[0;34m\u001b[0m\u001b[0;34m\u001b[0m\u001b[0m\n",
      "\u001b[0;32m~/anaconda3/envs/epfl/lib/python3.7/site-packages/patent_client/util/manager.py\u001b[0m in \u001b[0;36m__iter__\u001b[0;34m(self)\u001b[0m\n\u001b[1;32m     93\u001b[0m                 \u001b[0;32myield\u001b[0m \u001b[0mitem\u001b[0m\u001b[0;34m\u001b[0m\u001b[0;34m\u001b[0m\u001b[0m\n\u001b[1;32m     94\u001b[0m             \u001b[0;31m# Yield out of the iterator, expanding the cache as you go.\u001b[0m\u001b[0;34m\u001b[0m\u001b[0;34m\u001b[0m\u001b[0;34m\u001b[0m\u001b[0m\n\u001b[0;32m---> 95\u001b[0;31m             \u001b[0;32mfor\u001b[0m \u001b[0mitem\u001b[0m \u001b[0;32min\u001b[0m \u001b[0mself\u001b[0m\u001b[0;34m.\u001b[0m\u001b[0m__result_iterator__\u001b[0m\u001b[0;34m:\u001b[0m\u001b[0;34m\u001b[0m\u001b[0;34m\u001b[0m\u001b[0m\n\u001b[0m\u001b[1;32m     96\u001b[0m                 \u001b[0mself\u001b[0m\u001b[0;34m.\u001b[0m\u001b[0m__cache__\u001b[0m\u001b[0;34m.\u001b[0m\u001b[0mappend\u001b[0m\u001b[0;34m(\u001b[0m\u001b[0mitem\u001b[0m\u001b[0;34m)\u001b[0m\u001b[0;34m\u001b[0m\u001b[0;34m\u001b[0m\u001b[0m\n\u001b[1;32m     97\u001b[0m                 \u001b[0;32myield\u001b[0m \u001b[0mitem\u001b[0m\u001b[0;34m\u001b[0m\u001b[0;34m\u001b[0m\u001b[0m\n",
      "\u001b[0;32m~/anaconda3/envs/epfl/lib/python3.7/site-packages/patent_client/uspto/peds/manager.py\u001b[0m in \u001b[0;36m_get_results\u001b[0;34m(self)\u001b[0m\n\u001b[1;32m     54\u001b[0m             \u001b[0;32mfor\u001b[0m \u001b[0mitem\u001b[0m \u001b[0;32min\u001b[0m \u001b[0mpage_data\u001b[0m\u001b[0;34m[\u001b[0m\u001b[0;34m\"docs\"\u001b[0m\u001b[0;34m]\u001b[0m\u001b[0;34m:\u001b[0m\u001b[0;34m\u001b[0m\u001b[0;34m\u001b[0m\u001b[0m\n\u001b[1;32m     55\u001b[0m                 \u001b[0;32mif\u001b[0m \u001b[0;32mnot\u001b[0m \u001b[0mself\u001b[0m\u001b[0;34m.\u001b[0m\u001b[0mconfig\u001b[0m\u001b[0;34m[\u001b[0m\u001b[0;34m\"limit\"\u001b[0m\u001b[0;34m]\u001b[0m \u001b[0;32mor\u001b[0m \u001b[0mcounter\u001b[0m \u001b[0;34m<\u001b[0m \u001b[0mself\u001b[0m\u001b[0;34m.\u001b[0m\u001b[0mconfig\u001b[0m\u001b[0;34m[\u001b[0m\u001b[0;34m\"limit\"\u001b[0m\u001b[0;34m]\u001b[0m\u001b[0;34m:\u001b[0m\u001b[0;34m\u001b[0m\u001b[0;34m\u001b[0m\u001b[0m\n\u001b[0;32m---> 56\u001b[0;31m                     \u001b[0;32myield\u001b[0m \u001b[0mself\u001b[0m\u001b[0;34m.\u001b[0m\u001b[0m__schema__\u001b[0m\u001b[0;34m.\u001b[0m\u001b[0mload\u001b[0m\u001b[0;34m(\u001b[0m\u001b[0mitem\u001b[0m\u001b[0;34m)\u001b[0m\u001b[0;34m\u001b[0m\u001b[0;34m\u001b[0m\u001b[0m\n\u001b[0m\u001b[1;32m     57\u001b[0m                 \u001b[0mcounter\u001b[0m \u001b[0;34m+=\u001b[0m \u001b[0;36m1\u001b[0m\u001b[0;34m\u001b[0m\u001b[0;34m\u001b[0m\u001b[0m\n\u001b[1;32m     58\u001b[0m             \u001b[0mpage_num\u001b[0m \u001b[0;34m+=\u001b[0m \u001b[0;36m1\u001b[0m\u001b[0;34m\u001b[0m\u001b[0;34m\u001b[0m\u001b[0m\n",
      "\u001b[0;32m~/anaconda3/envs/epfl/lib/python3.7/site-packages/marshmallow/schema.py\u001b[0m in \u001b[0;36mload\u001b[0;34m(self, data, many, partial, unknown)\u001b[0m\n\u001b[1;32m    726\u001b[0m         \"\"\"\n\u001b[1;32m    727\u001b[0m         return self._do_load(\n\u001b[0;32m--> 728\u001b[0;31m             \u001b[0mdata\u001b[0m\u001b[0;34m,\u001b[0m \u001b[0mmany\u001b[0m\u001b[0;34m=\u001b[0m\u001b[0mmany\u001b[0m\u001b[0;34m,\u001b[0m \u001b[0mpartial\u001b[0m\u001b[0;34m=\u001b[0m\u001b[0mpartial\u001b[0m\u001b[0;34m,\u001b[0m \u001b[0munknown\u001b[0m\u001b[0;34m=\u001b[0m\u001b[0munknown\u001b[0m\u001b[0;34m,\u001b[0m \u001b[0mpostprocess\u001b[0m\u001b[0;34m=\u001b[0m\u001b[0;32mTrue\u001b[0m\u001b[0;34m\u001b[0m\u001b[0;34m\u001b[0m\u001b[0m\n\u001b[0m\u001b[1;32m    729\u001b[0m         )\n\u001b[1;32m    730\u001b[0m \u001b[0;34m\u001b[0m\u001b[0m\n",
      "\u001b[0;32m~/anaconda3/envs/epfl/lib/python3.7/site-packages/marshmallow/schema.py\u001b[0m in \u001b[0;36m_do_load\u001b[0;34m(self, data, many, partial, unknown, postprocess)\u001b[0m\n\u001b[1;32m    907\u001b[0m             \u001b[0mexc\u001b[0m \u001b[0;34m=\u001b[0m \u001b[0mValidationError\u001b[0m\u001b[0;34m(\u001b[0m\u001b[0merrors\u001b[0m\u001b[0;34m,\u001b[0m \u001b[0mdata\u001b[0m\u001b[0;34m=\u001b[0m\u001b[0mdata\u001b[0m\u001b[0;34m,\u001b[0m \u001b[0mvalid_data\u001b[0m\u001b[0;34m=\u001b[0m\u001b[0mresult\u001b[0m\u001b[0;34m)\u001b[0m\u001b[0;34m\u001b[0m\u001b[0;34m\u001b[0m\u001b[0m\n\u001b[1;32m    908\u001b[0m             \u001b[0mself\u001b[0m\u001b[0;34m.\u001b[0m\u001b[0mhandle_error\u001b[0m\u001b[0;34m(\u001b[0m\u001b[0mexc\u001b[0m\u001b[0;34m,\u001b[0m \u001b[0mdata\u001b[0m\u001b[0;34m,\u001b[0m \u001b[0mmany\u001b[0m\u001b[0;34m=\u001b[0m\u001b[0mmany\u001b[0m\u001b[0;34m,\u001b[0m \u001b[0mpartial\u001b[0m\u001b[0;34m=\u001b[0m\u001b[0mpartial\u001b[0m\u001b[0;34m)\u001b[0m\u001b[0;34m\u001b[0m\u001b[0;34m\u001b[0m\u001b[0m\n\u001b[0;32m--> 909\u001b[0;31m             \u001b[0;32mraise\u001b[0m \u001b[0mexc\u001b[0m\u001b[0;34m\u001b[0m\u001b[0;34m\u001b[0m\u001b[0m\n\u001b[0m\u001b[1;32m    910\u001b[0m \u001b[0;34m\u001b[0m\u001b[0m\n\u001b[1;32m    911\u001b[0m         \u001b[0;32mreturn\u001b[0m \u001b[0mresult\u001b[0m\u001b[0;34m\u001b[0m\u001b[0;34m\u001b[0m\u001b[0m\n",
      "\u001b[0;31mValidationError\u001b[0m: {'inventors': {0: {'rank_no': ['Not a valid integer.']}}}"
     ]
    }
   ],
   "source": [
    "patented_app = []\n",
    "for app in aapl_apps:\n",
    "    for t in app.transactions:\n",
    "        if 'patent' in t.description.lower():\n",
    "            patented_app.append(app)\n",
    "            break\n"
   ]
  },
  {
   "cell_type": "code",
   "execution_count": null,
   "metadata": {
    "scrolled": false
   },
   "outputs": [],
   "source": [
    "len(patented_app)"
   ]
  },
  {
   "cell_type": "code",
   "execution_count": 149,
   "metadata": {},
   "outputs": [],
   "source": [
    "temp = aapl_apps[35]"
   ]
  },
  {
   "cell_type": "code",
   "execution_count": 155,
   "metadata": {},
   "outputs": [],
   "source": [
    "temp_fields = [f.name for f in temp.fields()]"
   ]
  },
  {
   "cell_type": "code",
   "execution_count": 152,
   "metadata": {},
   "outputs": [
    {
     "data": {
      "text/plain": [
       "['appl_id',\n",
       " 'patent_title',\n",
       " 'app_status',\n",
       " 'inventors',\n",
       " 'app_filing_date',\n",
       " 'app_location',\n",
       " 'first_inventor_file',\n",
       " 'app_type',\n",
       " 'app_entity_status',\n",
       " 'app_confr_number',\n",
       " 'applicants',\n",
       " 'app_status_date',\n",
       " 'app_cls_sub_cls',\n",
       " 'app_grp_art_number',\n",
       " 'corr_addr_cust_no',\n",
       " 'app_cust_number',\n",
       " 'app_attr_dock_number',\n",
       " 'patent_number',\n",
       " 'patent_issue_date',\n",
       " 'app_early_pub_number',\n",
       " 'app_early_pub_date',\n",
       " 'app_exam_name',\n",
       " 'wipo_early_pub_number',\n",
       " 'wipo_early_pub_date',\n",
       " 'transactions',\n",
       " 'child_continuity',\n",
       " 'parent_continuity',\n",
       " 'pta_pte_tran_history',\n",
       " 'pta_pte_summary',\n",
       " 'correspondent',\n",
       " 'attorneys',\n",
       " 'foreign_priority']"
      ]
     },
     "execution_count": 152,
     "metadata": {},
     "output_type": "execute_result"
    }
   ],
   "source": [
    "temp_fields"
   ]
  },
  {
   "cell_type": "code",
   "execution_count": 153,
   "metadata": {
    "scrolled": false
   },
   "outputs": [
    {
     "name": "stdout",
     "output_type": "stream",
     "text": [
      "appl_id\n",
      "15355648\n",
      "\n",
      "patent_title\n",
      "METHOD FOR FABRICATION OF A BALANCE SPRING OF A PREDETERMINED STIFFNESS BY LOCAL REMOVAL OF MATERIAL\n",
      "\n",
      "app_status\n",
      "Patented Case\n",
      "\n",
      "inventors\n",
      "[Inventor(name='KOHLER; Frederic', street='', city='Avry-Sur-Matran, ', geo_code='', postal_code=None, country=None, rank_no=1), Inventor(name='BUCAILLE; Jean-Luc', street='', city='Presilly, ', geo_code='', postal_code=None, country=None, rank_no=2), Inventor(name='HUNZIKER; Olivier', street='', city='Vevey, ', geo_code='', postal_code=None, country=None, rank_no=3)]\n",
      "\n",
      "app_filing_date\n",
      "2016-11-18\n",
      "\n",
      "app_location\n",
      "ELECTRONIC\n",
      "\n",
      "first_inventor_file\n",
      "Yes\n",
      "\n",
      "app_type\n",
      "Utility\n",
      "\n",
      "app_entity_status\n",
      "UNDISCOUNTED\n",
      "\n",
      "app_confr_number\n",
      "5805\n",
      "\n",
      "applicants\n",
      "[Applicant(name=\"CSEM Centre Suisse d'Electronique et de Microtechn\", cust_no=None, street='', city='Neuchatel, ', geo_region_code=None, postal_code=None, country=None, rank_no=1)]\n",
      "\n",
      "app_status_date\n",
      "2019-06-12\n",
      "\n",
      "app_cls_sub_cls\n",
      "029/896300\n",
      "\n",
      "app_grp_art_number\n",
      "3726\n",
      "\n",
      "corr_addr_cust_no\n",
      "None\n",
      "\n",
      "app_cust_number\n",
      "22850\n",
      "\n",
      "app_attr_dock_number\n",
      "479445US\n",
      "\n",
      "patent_number\n",
      "10338528\n",
      "\n",
      "patent_issue_date\n",
      "2019-07-02\n",
      "\n",
      "app_early_pub_number\n",
      "US20170176941A1\n",
      "\n",
      "app_early_pub_date\n",
      "2017-06-22\n",
      "\n",
      "app_exam_name\n",
      "WILENSKY, MOSHE K\n",
      "\n",
      "wipo_early_pub_number\n",
      "None\n",
      "\n",
      "wipo_early_pub_date\n",
      "None\n",
      "\n",
      "transactions\n",
      "[Transaction(date=datetime.date(2019, 7, 2), code='PGM/', description='Recordation of Patent Grant Mailed'), Transaction(date=datetime.date(2019, 6, 13), code='EML_NTR', description='Email Notification'), Transaction(date=datetime.date(2019, 6, 12), code='WPIR', description='Issue Notification Mailed'), Transaction(date=datetime.date(2019, 7, 2), code='PTAC', description='Patent Issue Date Used in PTA Calculation'), Transaction(date=datetime.date(2019, 5, 17), code='D1935', description='Dispatch to FDC'), Transaction(date=datetime.date(2019, 5, 14), code='PILS', description='Application Is Considered Ready for Issue'), Transaction(date=datetime.date(2019, 5, 13), code='N084', description='Issue Fee Payment Verified'), Transaction(date=datetime.date(2019, 5, 13), code='DRWF', description='Workflow - Drawings Finished'), Transaction(date=datetime.date(2019, 5, 13), code='IFEE', description='Issue Fee Payment Received'), Transaction(date=datetime.date(2019, 4, 3), code='EML_NTR', description='Email Notification'), Transaction(date=datetime.date(2019, 4, 3), code='PA..', description='Change in Power of Attorney (May Include Associate POA)'), Transaction(date=datetime.date(2019, 3, 12), code='EML_NTR', description='Email Notification'), Transaction(date=datetime.date(2019, 3, 12), code='MM327-D', description='Mail PUB   other miscellaneous communication to applicant'), Transaction(date=datetime.date(2019, 3, 8), code='M327-D', description='PUB Other miscellaneous communication to applicant'), Transaction(date=datetime.date(2019, 2, 12), code='ELC_RVW', description='Electronic Review'), Transaction(date=datetime.date(2019, 2, 12), code='EML_NTF', description='Email Notification'), Transaction(date=datetime.date(2019, 2, 12), code='MN/=.', description='Mail Notice of Allowance'), Transaction(date=datetime.date(2019, 2, 7), code='N/=.', description='Notice of Allowance Data Verification Completed'), Transaction(date=datetime.date(2019, 1, 31), code='EX.R', description='Reasons for Allowance'), Transaction(date=datetime.date(2019, 1, 11), code='FWDX', description='Date Forwarded to Examiner'), Transaction(date=datetime.date(2019, 1, 9), code='RCEX', description='Request for Continued Examination (RCE)'), Transaction(date=datetime.date(2019, 1, 11), code='ABN9', description='Disposal for a RCE / CPA / R129'), Transaction(date=datetime.date(2019, 1, 9), code='BRCE', description='Workflow - Request for RCE - Begin'), Transaction(date=datetime.date(2019, 1, 7), code='EML_NTR', description='Email Notification'), Transaction(date=datetime.date(2019, 1, 7), code='MCTAV', description='Mail Advisory Action (PTOL - 303)'), Transaction(date=datetime.date(2019, 1, 1), code='AFAC', description='After Final Consideration Program Additional Consideration and/or updated search'), Transaction(date=datetime.date(2019, 1, 1), code='EXET', description='Interview Summary - Examiner Initiated - Telephonic'), Transaction(date=datetime.date(2019, 1, 1), code='CTAV', description='Advisory Action (PTOL-303)'), Transaction(date=datetime.date(2018, 12, 21), code='RAFC', description='PILOT- Request for After Final Consideration Program'), Transaction(date=datetime.date(2018, 12, 26), code='FWDX', description='Date Forwarded to Examiner'), Transaction(date=datetime.date(2018, 12, 21), code='A.NE', description='Response after Final Action'), Transaction(date=datetime.date(2018, 10, 10), code='ELC_RVW', description='Electronic Review'), Transaction(date=datetime.date(2018, 10, 10), code='EML_NTF', description='Email Notification'), Transaction(date=datetime.date(2018, 10, 10), code='MCTFR', description='Mail Final Rejection (PTOL - 326)'), Transaction(date=datetime.date(2018, 10, 3), code='CTFR', description='Final Rejection'), Transaction(date=datetime.date(2018, 9, 6), code='FWDX', description='Date Forwarded to Examiner'), Transaction(date=datetime.date(2018, 7, 31), code='A...', description='Response after Non-Final Action'), Transaction(date=datetime.date(2018, 5, 15), code='ELC_RVW', description='Electronic Review'), Transaction(date=datetime.date(2018, 5, 15), code='EML_NTF', description='Email Notification'), Transaction(date=datetime.date(2018, 5, 15), code='MCTNF', description='Mail Non-Final Rejection'), Transaction(date=datetime.date(2018, 5, 10), code='CTNF', description='Non-Final Rejection'), Transaction(date=datetime.date(2018, 5, 10), code='IDSC', description='Information Disclosure Statement considered'), Transaction(date=datetime.date(2018, 5, 7), code='DOCK', description='Case Docketed to Examiner in GAU'), Transaction(date=datetime.date(2018, 4, 16), code='DOCK', description='Case Docketed to Examiner in GAU'), Transaction(date=datetime.date(2017, 6, 23), code='EML_NTR', description='Email Notification'), Transaction(date=datetime.date(2017, 6, 22), code='CCRDY', description='Application ready for PDX access by participating foreign offices'), Transaction(date=datetime.date(2017, 6, 22), code='PG-ISSUE', description='PG-Pub Issue Notification'), Transaction(date=datetime.date(2017, 3, 27), code='PD.RECVD', description='Priority document has successfully retrieved via PDX/DAS'), Transaction(date=datetime.date(2017, 3, 24), code='DOCK', description='Case Docketed to Examiner in GAU'), Transaction(date=datetime.date(2016, 12, 20), code='OIPE', description='Application Dispatched from OIPE'), Transaction(date=datetime.date(2016, 11, 30), code='EML_NTR', description='Email Notification'), Transaction(date=datetime.date(2016, 11, 29), code='PGPC', description='Sent to Classification Contractor'), Transaction(date=datetime.date(2016, 11, 29), code='FTFS', description='FITF set to YES - revise initial setting'), Transaction(date=datetime.date(2016, 11, 18), code='PTA.RFE', description='Patent Term Adjustment - Ready for Examination'), Transaction(date=datetime.date(2016, 11, 30), code='COMP', description='Application Is Now Complete'), Transaction(date=datetime.date(2016, 11, 30), code='FLRCPT.O', description='Filing Receipt'), Transaction(date=datetime.date(2016, 11, 18), code='SREXR141', description='PTO/SB/69-Authorize EPO Access to Search Results'), Transaction(date=datetime.date(2016, 11, 18), code='APPERMS', description='Applicants have given acceptable permission for participating foreign '), Transaction(date=datetime.date(2016, 11, 18), code='PDREQUST', description='Request from applicant for the USPTO to retrieve the Priority Document'), Transaction(date=datetime.date(2016, 11, 20), code='L194', description='Cleared by OIPE CSR'), Transaction(date=datetime.date(2016, 11, 18), code='WIDS', description='Information Disclosure Statement (IDS) Filed'), Transaction(date=datetime.date(2016, 11, 18), code='SCAN', description='IFW Scan & PACR Auto Security Review'), Transaction(date=datetime.date(2016, 11, 18), code='BIG.', description='ENTITY STATUS SET TO UNDISCOUNTED (INITIAL DEFAULT SETTING OR STATUS CHANGE)'), Transaction(date=datetime.date(2016, 11, 18), code='IEXX', description='Initial Exam Team nn')]\n",
      "\n",
      "child_continuity\n",
      "[]\n",
      "\n",
      "parent_continuity\n",
      "[]\n",
      "\n",
      "pta_pte_tran_history\n",
      "[PtaPteHistory(number=72.5, date=datetime.date(2019, 7, 2), description='PTA 36 Months', pto_days=None, applicant_days=None, start=0.5), PtaPteHistory(number=72.0, date=datetime.date(2019, 7, 2), description='Patent Issue Date Used in PTA Calculation', pto_days=None, applicant_days=None, start=0.0), PtaPteHistory(number=70.0, date=datetime.date(2019, 5, 17), description='Dispatch to FDC', pto_days=None, applicant_days=None, start=0.0), PtaPteHistory(number=69.0, date=datetime.date(2019, 5, 14), description='Application Is Considered Ready for Issue', pto_days=None, applicant_days=None, start=0.0), PtaPteHistory(number=68.0, date=datetime.date(2019, 5, 13), description='Issue Fee Payment Verified', pto_days=None, applicant_days=None, start=0.0), PtaPteHistory(number=67.0, date=datetime.date(2019, 5, 13), description='Workflow - Drawings Finished', pto_days=None, applicant_days=51, start=72.0), PtaPteHistory(number=66.0, date=datetime.date(2019, 5, 13), description='Issue Fee Payment Received', pto_days=None, applicant_days=None, start=0.0), PtaPteHistory(number=65.0, date=datetime.date(2019, 4, 3), description='Email Notification', pto_days=None, applicant_days=None, start=0.0), PtaPteHistory(number=64.0, date=datetime.date(2019, 4, 3), description='Change in Power of Attorney (May Include Associate POA)', pto_days=None, applicant_days=None, start=0.0), PtaPteHistory(number=62.0, date=datetime.date(2019, 3, 12), description='Email Notification', pto_days=None, applicant_days=None, start=0.0), PtaPteHistory(number=61.0, date=datetime.date(2019, 3, 12), description='Mail PUB   other miscellaneous communication to applicant', pto_days=None, applicant_days=None, start=0.0), PtaPteHistory(number=60.0, date=datetime.date(2019, 3, 8), description='PUB Other miscellaneous communication to applicant', pto_days=None, applicant_days=None, start=0.0), PtaPteHistory(number=58.0, date=datetime.date(2019, 2, 12), description='Electronic Review', pto_days=None, applicant_days=None, start=0.0), PtaPteHistory(number=57.0, date=datetime.date(2019, 2, 12), description='Email Notification', pto_days=None, applicant_days=None, start=0.0), PtaPteHistory(number=56.0, date=datetime.date(2019, 2, 12), description='Mail Notice of Allowance', pto_days=None, applicant_days=None, start=0.0), PtaPteHistory(number=52.0, date=datetime.date(2019, 2, 7), description='Notice of Allowance Data Verification Completed', pto_days=None, applicant_days=None, start=0.0), PtaPteHistory(number=50.0, date=datetime.date(2019, 1, 31), description='Reasons for Allowance', pto_days=None, applicant_days=None, start=0.0), PtaPteHistory(number=48.0, date=datetime.date(2019, 1, 11), description='Date Forwarded to Examiner', pto_days=None, applicant_days=None, start=0.0), PtaPteHistory(number=46.0, date=datetime.date(2019, 1, 9), description='Request for Continued Examination (RCE)', pto_days=None, applicant_days=None, start=0.0), PtaPteHistory(number=45.0, date=datetime.date(2019, 1, 11), description='Disposal for a RCE / CPA / R129', pto_days=None, applicant_days=None, start=0.0), PtaPteHistory(number=44.0, date=datetime.date(2019, 1, 9), description='Workflow - Request for RCE - Begin', pto_days=None, applicant_days=None, start=0.0), PtaPteHistory(number=43.0, date=datetime.date(2019, 1, 7), description='Email Notification', pto_days=None, applicant_days=None, start=0.0), PtaPteHistory(number=42.0, date=datetime.date(2019, 1, 7), description='Mail Advisory Action (PTOL - 303)', pto_days=None, applicant_days=None, start=0.0), PtaPteHistory(number=41.0, date=datetime.date(2019, 1, 1), description='After Final Consideration Program Additional Consideration and/or updated search', pto_days=None, applicant_days=None, start=0.0), PtaPteHistory(number=40.0, date=datetime.date(2019, 1, 1), description='Interview Summary - Examiner Initiated - Telephonic', pto_days=None, applicant_days=None, start=0.0), PtaPteHistory(number=39.0, date=datetime.date(2019, 1, 1), description='Advisory Action (PTOL-303)', pto_days=None, applicant_days=None, start=0.0), PtaPteHistory(number=38.0, date=datetime.date(2018, 12, 21), description='PILOT- Request for After Final Consideration Program', pto_days=None, applicant_days=None, start=0.0), PtaPteHistory(number=37.0, date=datetime.date(2018, 12, 26), description='Date Forwarded to Examiner', pto_days=None, applicant_days=None, start=0.0), PtaPteHistory(number=36.0, date=datetime.date(2018, 12, 21), description='Response after Final Action', pto_days=None, applicant_days=None, start=0.0), PtaPteHistory(number=35.0, date=datetime.date(2018, 10, 10), description='Electronic Review', pto_days=None, applicant_days=None, start=0.0), PtaPteHistory(number=34.0, date=datetime.date(2018, 10, 10), description='Email Notification', pto_days=None, applicant_days=None, start=0.0), PtaPteHistory(number=33.0, date=datetime.date(2018, 10, 10), description='Mail Final Rejection (PTOL - 326)', pto_days=None, applicant_days=None, start=0.0), PtaPteHistory(number=31.0, date=datetime.date(2018, 10, 3), description='Final Rejection', pto_days=None, applicant_days=None, start=0.0), PtaPteHistory(number=30.0, date=datetime.date(2018, 9, 6), description='Date Forwarded to Examiner', pto_days=None, applicant_days=None, start=0.0), PtaPteHistory(number=29.0, date=datetime.date(2018, 7, 31), description='Response after Non-Final Action', pto_days=None, applicant_days=None, start=0.0), PtaPteHistory(number=28.0, date=datetime.date(2018, 5, 15), description='Electronic Review', pto_days=None, applicant_days=None, start=0.0), PtaPteHistory(number=27.0, date=datetime.date(2018, 5, 15), description='Email Notification', pto_days=None, applicant_days=None, start=0.0), PtaPteHistory(number=26.0, date=datetime.date(2018, 5, 15), description='Mail Non-Final Rejection', pto_days=117, applicant_days=None, start=0.5), PtaPteHistory(number=24.0, date=datetime.date(2018, 5, 10), description='Non-Final Rejection', pto_days=None, applicant_days=None, start=0.0), PtaPteHistory(number=23.0, date=datetime.date(2018, 5, 10), description='Information Disclosure Statement considered', pto_days=None, applicant_days=None, start=0.0), PtaPteHistory(number=22.0, date=datetime.date(2018, 5, 7), description='Case Docketed to Examiner in GAU', pto_days=None, applicant_days=None, start=0.0), PtaPteHistory(number=21.0, date=datetime.date(2018, 4, 16), description='Case Docketed to Examiner in GAU', pto_days=None, applicant_days=None, start=0.0), PtaPteHistory(number=20.0, date=datetime.date(2017, 6, 23), description='Email Notification', pto_days=None, applicant_days=None, start=0.0), PtaPteHistory(number=19.0, date=datetime.date(2017, 6, 22), description='Application ready for PDX access by participating foreign offices', pto_days=None, applicant_days=None, start=0.0), PtaPteHistory(number=18.0, date=datetime.date(2017, 6, 22), description='PG-Pub Issue Notification', pto_days=None, applicant_days=None, start=0.0), PtaPteHistory(number=17.0, date=datetime.date(2017, 3, 27), description='Priority document has successfully retrieved via PDX/DAS', pto_days=None, applicant_days=None, start=0.0), PtaPteHistory(number=16.0, date=datetime.date(2017, 3, 24), description='Case Docketed to Examiner in GAU', pto_days=None, applicant_days=None, start=0.0), PtaPteHistory(number=15.0, date=datetime.date(2016, 12, 20), description='Application Dispatched from OIPE', pto_days=None, applicant_days=None, start=0.0), PtaPteHistory(number=14.0, date=datetime.date(2016, 11, 30), description='Email Notification', pto_days=None, applicant_days=None, start=0.0), PtaPteHistory(number=13.0, date=datetime.date(2016, 11, 29), description='Sent to Classification Contractor', pto_days=None, applicant_days=None, start=0.0), PtaPteHistory(number=12.0, date=datetime.date(2016, 11, 29), description='FITF set to YES - revise initial setting', pto_days=None, applicant_days=None, start=0.0), PtaPteHistory(number=11.0, date=datetime.date(2016, 11, 18), description='Patent Term Adjustment - Ready for Examination', pto_days=None, applicant_days=None, start=0.0), PtaPteHistory(number=10.0, date=datetime.date(2016, 11, 30), description='Application Is Now Complete', pto_days=None, applicant_days=None, start=0.0), PtaPteHistory(number=9.0, date=datetime.date(2016, 11, 30), description='Filing Receipt', pto_days=None, applicant_days=None, start=0.0), PtaPteHistory(number=8.0, date=datetime.date(2016, 11, 18), description='PTO/SB/69-Authorize EPO Access to Search Results', pto_days=None, applicant_days=None, start=0.0), PtaPteHistory(number=7.0, date=datetime.date(2016, 11, 18), description='Applicants have given acceptable permission for participating foreign ', pto_days=None, applicant_days=None, start=0.0), PtaPteHistory(number=6.0, date=datetime.date(2016, 11, 18), description='Request from applicant for the USPTO to retrieve the Priority Document', pto_days=None, applicant_days=None, start=0.0), PtaPteHistory(number=5.0, date=datetime.date(2016, 11, 20), description='Cleared by OIPE CSR', pto_days=None, applicant_days=None, start=0.0), PtaPteHistory(number=4.0, date=datetime.date(2016, 11, 18), description='Information Disclosure Statement (IDS) Filed', pto_days=None, applicant_days=None, start=0.0), PtaPteHistory(number=3.0, date=datetime.date(2016, 11, 18), description='IFW Scan & PACR Auto Security Review', pto_days=None, applicant_days=None, start=0.0), PtaPteHistory(number=2.0, date=datetime.date(2016, 11, 18), description='ENTITY STATUS SET TO UNDISCOUNTED (INITIAL DEFAULT SETTING OR STATUS CHANGE)', pto_days=None, applicant_days=None, start=0.0), PtaPteHistory(number=1.0, date=datetime.date(2016, 11, 18), description='Initial Exam Team nn', pto_days=None, applicant_days=None, start=0.0), PtaPteHistory(number=0.5, date=datetime.date(2016, 11, 18), description='Filing date', pto_days=None, applicant_days=None, start=0.0)]\n",
      "\n",
      "pta_pte_summary\n",
      "PtaPteSummary(a_delay=117, b_delay=0, c_delay=0, overlap_delay=0, pto_delay=117, applicant_delay=51, pto_adjustments=0, total_days=66, kind='PTA')\n",
      "\n",
      "correspondent\n",
      "Correspondent(name='OBLON, MCCLELLAND, MAIER & NEUSTADT, L.L.P.', street='1940 DUKE STREET', city='ALEXANDRIA', geo_region_code='VA', postal_code='22314', country='US', cust_no='22850')\n",
      "\n",
      "attorneys\n",
      "[Attorney(full_name='Oblon, Norman  ', phone_num='703-413-3000', reg_status='ACTIVE', registration_no='24618'), Attorney(full_name='Neustadt, Arthur  ', phone_num='703-413-3000', reg_status='ACTIVE', registration_no='24854'), Attorney(full_name='Gholz, Charles  ', phone_num='703-412-6485', reg_status='ACTIVE', registration_no='26395'), Attorney(full_name='Kelly, Richard  ', phone_num='703-412-6403', reg_status='ACTIVE', registration_no='27757'), Attorney(full_name='Pous, Robert  ', phone_num='703-413-3000', reg_status='ACTIVE', registration_no='29099'), Attorney(full_name='Kuesters, Eckhard  ', phone_num='703-413-3000', reg_status='ACTIVE', registration_no='28870'), Attorney(full_name='Baxter, Stephen  ', phone_num='703-413-3000', reg_status='ACTIVE', registration_no='32884'), Attorney(full_name='Schlier, Carl  ', phone_num='703-413-3000', reg_status='ACTIVE', registration_no='34426'), Attorney(full_name='Sachar, Surinder  ', phone_num='703-413-3000', reg_status='ACTIVE', registration_no='34423'), Attorney(full_name='Mason, J  ', phone_num='703-413-3000', reg_status='ACTIVE', registration_no='35270'), Attorney(full_name='Hadjis, Alex  ', phone_num='703-413-3000', reg_status='ACTIVE', registration_no='36540'), Attorney(full_name='McIntyre, Jeffrey  ', phone_num='703-413-3000', reg_status='ACTIVE', registration_no='36867'), Attorney(full_name='Ollis, Andrew  ', phone_num='703-413-3000', reg_status='ACTIVE', registration_no='40749'), Attorney(full_name='Casey, Michael  ', phone_num='703-413-3000', reg_status='ACTIVE', registration_no='40294'), Attorney(full_name='Kern, John  ', phone_num='703-413-3000', reg_status='ACTIVE', registration_no='42719'), Attorney(full_name='McKinley, Kevin  ', phone_num='703-413-3000', reg_status='ACTIVE', registration_no='43794'), Attorney(full_name='Signore, Philippe  ', phone_num='703-413-3000', reg_status='ACTIVE', registration_no='43922'), Attorney(full_name='Pereira, Daniel  ', phone_num='703-413-3000', reg_status='ACTIVE', registration_no='45518'), Attorney(full_name='Garlepp, Edwin  ', phone_num='703-413-3000', reg_status='ACTIVE', registration_no='45330'), Attorney(full_name='Yamazaki, Akihiro  ', phone_num='703-413-3000', reg_status='ACTIVE', registration_no='46155'), Attorney(full_name='Cunningham, Thomas  ', phone_num='703-413-6563', reg_status='ACTIVE', registration_no='45394'), Attorney(full_name='Downs, Robert  ', phone_num='703-413-3000', reg_status='ACTIVE', registration_no='48222'), Attorney(full_name='Koschmieder, Stefan  ', phone_num='703-412-6463', reg_status='ACTIVE', registration_no='50238'), Attorney(full_name='Shier, Vincent  ', phone_num='703-413-3000', reg_status='ACTIVE', registration_no='50552'), Attorney(full_name='Longo, David  ', phone_num='703-413-3000', reg_status='ACTIVE', registration_no='53235'), Attorney(full_name='Berger, Kurt  ', phone_num='703-412-3520', reg_status='ACTIVE', registration_no='51461'), Attorney(full_name='Lightner, Derek  ', phone_num='703-413-3000', reg_status='ACTIVE', registration_no='57298'), Attorney(full_name='Rowe, Jay  Jr.', phone_num='703-413-3000', reg_status='ACTIVE', registration_no='58948'), Attorney(full_name='Zinchenko, Bogdan  ', phone_num='703-413-3000', reg_status='ACTIVE', registration_no='57473'), Attorney(full_name='Love, James  ', phone_num='703-413-3000', reg_status='ACTIVE', registration_no='58421'), Attorney(full_name='Harris, Colin  ', phone_num='703-412-6209', reg_status='ACTIVE', registration_no='58969'), Attorney(full_name='Miller, Marina  ', phone_num='703-412-6044', reg_status='ACTIVE', registration_no='59091'), Attorney(full_name='Chang, Steven  ', phone_num='703-412-6228', reg_status='ACTIVE', registration_no='59423'), Attorney(full_name='Ma, Johnny  ', phone_num='703-412-7037', reg_status='ACTIVE', registration_no='59976'), Attorney(full_name='Panda, Soumya  ', phone_num='703-412-7053', reg_status='ACTIVE', registration_no='60447'), Attorney(full_name='Martinez, Aldo  ', phone_num='703-412-6275', reg_status='ACTIVE', registration_no='61357'), Attorney(full_name='Boutsikaris, Leonidas  ', phone_num='703-816-4100', reg_status='ACTIVE', registration_no='61377'), Attorney(full_name='Feinberg, Craig  ', phone_num='703-413-3000', reg_status='ACTIVE', registration_no='62116'), Attorney(full_name='Smith, Ryan  ', phone_num='703-413-3000', reg_status='ACTIVE', registration_no='62257'), Attorney(full_name='Sipos, John  ', phone_num='703-413-3000', reg_status='ACTIVE', registration_no='61985'), Attorney(full_name='Kim, Andy  ', phone_num='703-413-3000', reg_status='ACTIVE', registration_no='61050'), Attorney(full_name='Gron, Teddy  ', phone_num='703-413-3000', reg_status='ACTIVE', registration_no='63062'), Attorney(full_name='Gokhale, Sameer  ', phone_num='703-412-5936', reg_status='ACTIVE', registration_no='62618'), Attorney(full_name='Crane, Daniel  ', phone_num='703-413-3000', reg_status='ACTIVE', registration_no='63054'), Attorney(full_name='Tarcu, Robert  ', phone_num='703-413-3000', reg_status='ACTIVE', registration_no='64622'), Attorney(full_name='Psitos, Aristotelis  ', phone_num='703-413-3000', reg_status='ACTIVE', registration_no='63739'), Attorney(full_name='Davis, Kevin  ', phone_num='703-413-3000', reg_status='ACTIVE', registration_no='64667'), Attorney(full_name='Lloyd, Anna  ', phone_num='703-413-3000', reg_status='ACTIVE', registration_no='65062'), Attorney(full_name='Onoe, Yuki  ', phone_num='703-413-2381', reg_status='ACTIVE', registration_no='68563'), Attorney(full_name='Hartman, Kevin  ', phone_num='703-413-3000', reg_status='ACTIVE', registration_no='72359'), Attorney(full_name='Kim, Grace  ', phone_num='703-412-1425', reg_status='ACTIVE', registration_no='71631'), Attorney(full_name='Chen, Dong  ', phone_num='212-506-3929', reg_status='ACTIVE', registration_no='72310'), Attorney(full_name='Chang, Ching-Cheng  ', phone_num='703-413-3000', reg_status='ACTIVE', registration_no='73240'), Attorney(full_name='Saitoh, Maki  ', phone_num='703-413-2220', reg_status='ACTIVE', registration_no='72208'), Attorney(full_name='Stang, Erik  ', phone_num='703-413-2728', reg_status='ACTIVE', registration_no='73879'), Attorney(full_name='Mudaliar, Chanjee Varam K.R.  ', phone_num='202-531-0658', reg_status='ACTIVE', registration_no='L1148'), Attorney(full_name='Iitoyo, Chika  ', phone_num='703-413-3000', reg_status='INACTIVE', registration_no='L1331'), Attorney(full_name='Zhuang, Yan  ', phone_num='703-412-4523', reg_status='ACTIVE', registration_no='77960'), Attorney(full_name='Everhart, Matthew  ', phone_num='703-413-3000', reg_status='ACTIVE', registration_no='78158'), Attorney(full_name='McBride, Stephen  ', phone_num='703-412-1794', reg_status='ACTIVE', registration_no='78396'), Attorney(full_name='Nashed, Nashaat  ', phone_num='703-413-3000', reg_status='ACTIVE', registration_no='76122'), Attorney(full_name='Roach, Brendan  ', phone_num='703-413-2700', reg_status='ACTIVE', registration_no='78703'), Attorney(full_name='Nelson, Yin  ', phone_num='703-413-6519', reg_status='ACTIVE', registration_no='77479')]\n",
      "\n",
      "foreign_priority\n",
      "[ForeignPriority(priority_claim='15201341.3', country_name='EUROPEAN PATENT OFFICE (EPO)', filing_date=datetime.date(2015, 12, 18))]\n",
      "\n"
     ]
    }
   ],
   "source": [
    "for f in temp_fields:\n",
    "    print(f)\n",
    "    print(temp.__getattribute__(f))\n",
    "    print()"
   ]
  },
  {
   "cell_type": "code",
   "execution_count": 154,
   "metadata": {},
   "outputs": [
    {
     "name": "stdout",
     "output_type": "stream",
     "text": [
      "2019-07-02\n",
      "Recordation of Patent Grant Mailed\n",
      "2019-06-13\n",
      "Email Notification\n",
      "2019-06-12\n",
      "Issue Notification Mailed\n",
      "2019-07-02\n",
      "Patent Issue Date Used in PTA Calculation\n",
      "2019-05-17\n",
      "Dispatch to FDC\n",
      "2019-05-14\n",
      "Application Is Considered Ready for Issue\n",
      "2019-05-13\n",
      "Issue Fee Payment Verified\n",
      "2019-05-13\n",
      "Workflow - Drawings Finished\n",
      "2019-05-13\n",
      "Issue Fee Payment Received\n",
      "2019-04-03\n",
      "Email Notification\n",
      "2019-04-03\n",
      "Change in Power of Attorney (May Include Associate POA)\n",
      "2019-03-12\n",
      "Email Notification\n",
      "2019-03-12\n",
      "Mail PUB   other miscellaneous communication to applicant\n",
      "2019-03-08\n",
      "PUB Other miscellaneous communication to applicant\n",
      "2019-02-12\n",
      "Electronic Review\n",
      "2019-02-12\n",
      "Email Notification\n",
      "2019-02-12\n",
      "Mail Notice of Allowance\n",
      "2019-02-07\n",
      "Notice of Allowance Data Verification Completed\n",
      "2019-01-31\n",
      "Reasons for Allowance\n",
      "2019-01-11\n",
      "Date Forwarded to Examiner\n",
      "2019-01-09\n",
      "Request for Continued Examination (RCE)\n",
      "2019-01-11\n",
      "Disposal for a RCE / CPA / R129\n",
      "2019-01-09\n",
      "Workflow - Request for RCE - Begin\n",
      "2019-01-07\n",
      "Email Notification\n",
      "2019-01-07\n",
      "Mail Advisory Action (PTOL - 303)\n",
      "2019-01-01\n",
      "After Final Consideration Program Additional Consideration and/or updated search\n",
      "2019-01-01\n",
      "Interview Summary - Examiner Initiated - Telephonic\n",
      "2019-01-01\n",
      "Advisory Action (PTOL-303)\n",
      "2018-12-21\n",
      "PILOT- Request for After Final Consideration Program\n",
      "2018-12-26\n",
      "Date Forwarded to Examiner\n",
      "2018-12-21\n",
      "Response after Final Action\n",
      "2018-10-10\n",
      "Electronic Review\n",
      "2018-10-10\n",
      "Email Notification\n",
      "2018-10-10\n",
      "Mail Final Rejection (PTOL - 326)\n",
      "2018-10-03\n",
      "Final Rejection\n",
      "2018-09-06\n",
      "Date Forwarded to Examiner\n",
      "2018-07-31\n",
      "Response after Non-Final Action\n",
      "2018-05-15\n",
      "Electronic Review\n",
      "2018-05-15\n",
      "Email Notification\n",
      "2018-05-15\n",
      "Mail Non-Final Rejection\n",
      "2018-05-10\n",
      "Non-Final Rejection\n",
      "2018-05-10\n",
      "Information Disclosure Statement considered\n",
      "2018-05-07\n",
      "Case Docketed to Examiner in GAU\n",
      "2018-04-16\n",
      "Case Docketed to Examiner in GAU\n",
      "2017-06-23\n",
      "Email Notification\n",
      "2017-06-22\n",
      "Application ready for PDX access by participating foreign offices\n",
      "2017-06-22\n",
      "PG-Pub Issue Notification\n",
      "2017-03-27\n",
      "Priority document has successfully retrieved via PDX/DAS\n",
      "2017-03-24\n",
      "Case Docketed to Examiner in GAU\n",
      "2016-12-20\n",
      "Application Dispatched from OIPE\n",
      "2016-11-30\n",
      "Email Notification\n",
      "2016-11-29\n",
      "Sent to Classification Contractor\n",
      "2016-11-29\n",
      "FITF set to YES - revise initial setting\n",
      "2016-11-18\n",
      "Patent Term Adjustment - Ready for Examination\n",
      "2016-11-30\n",
      "Application Is Now Complete\n",
      "2016-11-30\n",
      "Filing Receipt\n",
      "2016-11-18\n",
      "PTO/SB/69-Authorize EPO Access to Search Results\n",
      "2016-11-18\n",
      "Applicants have given acceptable permission for participating foreign \n",
      "2016-11-18\n",
      "Request from applicant for the USPTO to retrieve the Priority Document\n",
      "2016-11-20\n",
      "Cleared by OIPE CSR\n",
      "2016-11-18\n",
      "Information Disclosure Statement (IDS) Filed\n",
      "2016-11-18\n",
      "IFW Scan & PACR Auto Security Review\n",
      "2016-11-18\n",
      "ENTITY STATUS SET TO UNDISCOUNTED (INITIAL DEFAULT SETTING OR STATUS CHANGE)\n",
      "2016-11-18\n",
      "Initial Exam Team nn\n"
     ]
    }
   ],
   "source": [
    "for t in temp.transactions:\n",
    "    print(t.date)\n",
    "    print(t.description)"
   ]
  },
  {
   "cell_type": "code",
   "execution_count": 100,
   "metadata": {},
   "outputs": [
    {
     "data": {
      "text/plain": [
       "datetime.date(2015, 4, 17)"
      ]
     },
     "execution_count": 100,
     "metadata": {},
     "output_type": "execute_result"
    }
   ],
   "source": [
    "temp.app_filing_date"
   ]
  },
  {
   "cell_type": "markdown",
   "metadata": {},
   "source": [
    "# pypatent"
   ]
  },
  {
   "cell_type": "code",
   "execution_count": 46,
   "metadata": {},
   "outputs": [],
   "source": [
    "import pypatent"
   ]
  },
  {
   "cell_type": "code",
   "execution_count": 75,
   "metadata": {},
   "outputs": [],
   "source": [
    "temp = pypatent.Search('apple inc', ptad='1/1/2015->1/31/2015', get_patent_details=True, results_limit=10000)"
   ]
  },
  {
   "cell_type": "code",
   "execution_count": 76,
   "metadata": {},
   "outputs": [],
   "source": [
    "temp = temp.as_list()"
   ]
  },
  {
   "cell_type": "code",
   "execution_count": null,
   "metadata": {},
   "outputs": [],
   "source": [
    "len(temp)"
   ]
  },
  {
   "cell_type": "code",
   "execution_count": 77,
   "metadata": {},
   "outputs": [
    {
     "data": {
      "text/plain": [
       "'July 10, 2018'"
      ]
     },
     "execution_count": 77,
     "metadata": {},
     "output_type": "execute_result"
    }
   ],
   "source": [
    "temp[-1]['patent_date']"
   ]
  },
  {
   "cell_type": "code",
   "execution_count": 78,
   "metadata": {},
   "outputs": [
    {
     "data": {
      "text/plain": [
       "'January 22, 2015'"
      ]
     },
     "execution_count": 78,
     "metadata": {},
     "output_type": "execute_result"
    }
   ],
   "source": [
    "temp[-1]['file_date']"
   ]
  },
  {
   "cell_type": "code",
   "execution_count": 79,
   "metadata": {},
   "outputs": [
    {
     "data": {
      "text/plain": [
       "'10,020,687'"
      ]
     },
     "execution_count": 79,
     "metadata": {},
     "output_type": "execute_result"
    }
   ],
   "source": [
    "temp[-1]['patent_num']"
   ]
  },
  {
   "cell_type": "code",
   "execution_count": 80,
   "metadata": {},
   "outputs": [
    {
     "data": {
      "text/plain": [
       "3"
      ]
     },
     "execution_count": 80,
     "metadata": {},
     "output_type": "execute_result"
    }
   ],
   "source": [
    "len(temp)"
   ]
  },
  {
   "cell_type": "code",
   "execution_count": 82,
   "metadata": {},
   "outputs": [
    {
     "data": {
      "text/plain": [
       "dict_keys(['title', 'patent_num', 'patent_date', 'file_date', 'abstract', 'inventors', 'applicant_name', 'applicant_city', 'applicant_state', 'applicant_country', 'assignee_name', 'assignee_loc', 'family_id', 'applicant_num', 'claims', 'description', 'url'])"
      ]
     },
     "execution_count": 82,
     "metadata": {},
     "output_type": "execute_result"
    }
   ],
   "source": [
    "temp[-1].keys()"
   ]
  },
  {
   "cell_type": "code",
   "execution_count": null,
   "metadata": {},
   "outputs": [],
   "source": []
  }
 ],
 "metadata": {
  "kernelspec": {
   "display_name": "Python 3",
   "language": "python",
   "name": "python3"
  },
  "language_info": {
   "codemirror_mode": {
    "name": "ipython",
    "version": 3
   },
   "file_extension": ".py",
   "mimetype": "text/x-python",
   "name": "python",
   "nbconvert_exporter": "python",
   "pygments_lexer": "ipython3",
   "version": "3.7.9"
  },
  "varInspector": {
   "cols": {
    "lenName": 16,
    "lenType": 16,
    "lenVar": 40
   },
   "kernels_config": {
    "python": {
     "delete_cmd_postfix": "",
     "delete_cmd_prefix": "del ",
     "library": "var_list.py",
     "varRefreshCmd": "print(var_dic_list())"
    },
    "r": {
     "delete_cmd_postfix": ") ",
     "delete_cmd_prefix": "rm(",
     "library": "var_list.r",
     "varRefreshCmd": "cat(var_dic_list()) "
    }
   },
   "types_to_exclude": [
    "module",
    "function",
    "builtin_function_or_method",
    "instance",
    "_Feature"
   ],
   "window_display": false
  }
 },
 "nbformat": 4,
 "nbformat_minor": 4
}
