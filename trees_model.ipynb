{
 "cells": [
  {
   "cell_type": "code",
   "execution_count": 12,
   "metadata": {},
   "outputs": [],
   "source": [
    "# import standard libraries\n",
    "import glob\n",
    "import re\n",
    "# import third-party libraries\n",
    "import seaborn as sns\n",
    "from mpl_toolkits.mplot3d import Axes3D\n",
    "import pandas as pd\n",
    "import matplotlib.pyplot as plt\n",
    "from sklearn.decomposition import PCA\n",
    "from sklearn.model_selection import train_test_split\n",
    "from sklearn.feature_selection import SelectKBest, f_regression\n",
    "from sklearn.model_selection import GridSearchCV\n",
    "from sklearn.ensemble import BaggingClassifier\n",
    "\n",
    "# import local libraries\n",
    "from mlf import TreeClassifier"
   ]
  },
  {
   "cell_type": "code",
   "execution_count": 2,
   "metadata": {},
   "outputs": [],
   "source": [
    "NUM_TOPICS = glob.glob(r'data/nlp/*.gensim')\n",
    "NUM_TOPICS = [int(re.findall(r'\\d+', s)[0]) for s in NUM_TOPICS]\n",
    "NUM_DAYS = [2, 3, 5, 7, 14, 21, 28, 35, 42, 49, 56]"
   ]
  },
  {
   "cell_type": "code",
   "execution_count": 3,
   "metadata": {},
   "outputs": [
    {
     "name": "stderr",
     "output_type": "stream",
     "text": [
      "/home/williammartin/miniconda3/envs/epfl/lib/python3.8/site-packages/pandas/core/indexing.py:1745: SettingWithCopyWarning: \n",
      "A value is trying to be set on a copy of a slice from a DataFrame.\n",
      "Try using .loc[row_indexer,col_indexer] = value instead\n",
      "\n",
      "See the caveats in the documentation: https://pandas.pydata.org/pandas-docs/stable/user_guide/indexing.html#returning-a-view-versus-a-copy\n",
      "  isetter(ilocs[0], value)\n",
      "/home/williammartin/Github/mlf-project/mlf/mlf_utils.py:123: SettingWithCopyWarning: \n",
      "A value is trying to be set on a copy of a slice from a DataFrame.\n",
      "Try using .loc[row_indexer,col_indexer] = value instead\n",
      "\n",
      "See the caveats in the documentation: https://pandas.pydata.org/pandas-docs/stable/user_guide/indexing.html#returning-a-view-versus-a-copy\n",
      "  X['num_app_prior'] = np.nan\n"
     ]
    }
   ],
   "source": [
    "clf = TreeClassifier()\n",
    "_, _ = clf.generate_xy(num_topics=100, num_days=28)\n",
    "_ = clf.scale_x()"
   ]
  },
  {
   "cell_type": "code",
   "execution_count": 4,
   "metadata": {},
   "outputs": [
    {
     "name": "stdout",
     "output_type": "stream",
     "text": [
      "53\n"
     ]
    },
    {
     "data": {
      "text/plain": [
       "array([0.02456131, 0.04439649, 0.0612942 , 0.07680496, 0.09211194,\n",
       "       0.10576675, 0.11931718, 0.13266696, 0.14558268, 0.15805411,\n",
       "       0.17023373, 0.18229309, 0.19427104, 0.20599387, 0.21761897,\n",
       "       0.22904585, 0.24044846, 0.25178786, 0.26304012, 0.27419757,\n",
       "       0.28524867, 0.29621897, 0.30715141, 0.31786666, 0.32852073,\n",
       "       0.33914701, 0.34971641, 0.36021848, 0.37064035, 0.38101714,\n",
       "       0.39138263, 0.40165432, 0.41189615, 0.42197842, 0.43205486,\n",
       "       0.44206429, 0.45199882, 0.46188398, 0.47176358, 0.48160484,\n",
       "       0.49137686, 0.50110173, 0.51079524, 0.52035882, 0.52990834,\n",
       "       0.53945225, 0.54894108, 0.55842176, 0.56786014, 0.57727324,\n",
       "       0.58658756, 0.59586894, 0.60510078])"
      ]
     },
     "execution_count": 4,
     "metadata": {},
     "output_type": "execute_result"
    }
   ],
   "source": [
    "pca = PCA(n_components=0.6, svd_solver='full')\n",
    "pca = pca.fit(clf.X_scaled)\n",
    "X = pca.transform(clf.X_scaled)\n",
    "print(len(pca.explained_variance_ratio_))\n",
    "pca.explained_variance_ratio_.cumsum()"
   ]
  },
  {
   "cell_type": "code",
   "execution_count": 6,
   "metadata": {},
   "outputs": [
    {
     "name": "stdout",
     "output_type": "stream",
     "text": [
      "0.5713865607998824\n",
      "0.5584905660377358\n"
     ]
    }
   ],
   "source": [
    "param_grid = {'min_samples_split': [5, 10, 50],\n",
    "             'criterion': ['gini'],\n",
    "             'min_samples_leaf': [1, 2, 5, 10],\n",
    "             'max_leaf_nodes': [None, 10, 20, 50]} \n",
    "\n",
    "# separate train and test\n",
    "X_train, X_test, y_train, y_test = train_test_split(X, \n",
    "                                                    clf.y['y_bin'],\n",
    "                                                    test_size=0.3,\n",
    "                                                    random_state=0,\n",
    "                                                    stratify=clf.y['y_bin'])\n",
    "\n",
    "cv = GridSearchCV(clf, param_grid)\n",
    "cv = cv.fit(X_train, y_train)\n",
    "print(cv.score(X_train, y_train))\n",
    "print(cv.score(X_test, y_test))"
   ]
  },
  {
   "cell_type": "code",
   "execution_count": 7,
   "metadata": {},
   "outputs": [
    {
     "data": {
      "text/plain": [
       "{'min_samples_split': 5,\n",
       " 'criterion': 'gini',\n",
       " 'min_samples_leaf': 1,\n",
       " 'max_leaf_nodes': 10}"
      ]
     },
     "execution_count": 7,
     "metadata": {},
     "output_type": "execute_result"
    }
   ],
   "source": [
    "opt_est = {k: cv.best_estimator_.__getattribute__(k) for k, _ in param_grid.items()}\n",
    "opt_est"
   ]
  },
  {
   "cell_type": "markdown",
   "metadata": {},
   "source": [
    "## Try bagging to increase performance"
   ]
  },
  {
   "cell_type": "markdown",
   "metadata": {},
   "source": [
    "use best estimators found from grid search cross validation"
   ]
  },
  {
   "cell_type": "code",
   "execution_count": 40,
   "metadata": {},
   "outputs": [],
   "source": [
    "bagger = BaggingClassifier(base_estimator=TreeClassifier(**opt_est), \n",
    "                           n_estimators=1000, random_state=0, max_samples=100,\n",
    "                           warm_start=True)\n",
    "bagger = bagger.fit(X_train, y_train)"
   ]
  },
  {
   "cell_type": "code",
   "execution_count": 41,
   "metadata": {},
   "outputs": [
    {
     "name": "stdout",
     "output_type": "stream",
     "text": [
      "0.5746213792089399\n",
      "0.5643224699828473\n"
     ]
    }
   ],
   "source": [
    "print(bagger.score(X_train, y_train))\n",
    "print(bagger.score(X_test, y_test))"
   ]
  },
  {
   "cell_type": "code",
   "execution_count": null,
   "metadata": {},
   "outputs": [],
   "source": []
  }
 ],
 "metadata": {
  "kernelspec": {
   "display_name": "Python 3",
   "language": "python",
   "name": "python3"
  },
  "language_info": {
   "codemirror_mode": {
    "name": "ipython",
    "version": 3
   },
   "file_extension": ".py",
   "mimetype": "text/x-python",
   "name": "python",
   "nbconvert_exporter": "python",
   "pygments_lexer": "ipython3",
   "version": "3.8.5"
  }
 },
 "nbformat": 4,
 "nbformat_minor": 4
}
