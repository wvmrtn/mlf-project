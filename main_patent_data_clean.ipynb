{
 "cells": [
  {
   "cell_type": "code",
   "execution_count": 1,
   "metadata": {},
   "outputs": [],
   "source": [
    "# import standard libraries\n",
    "from datetime import timedelta\n",
    "import glob\n",
    "import os\n",
    "import re\n",
    "import string\n",
    "# import third-party libraries\n",
    "import matplotlib.pyplot as plt\n",
    "import nltk\n",
    "from nltk import word_tokenize\n",
    "from nltk.corpus import wordnet as wn\n",
    "from nltk.stem.wordnet import WordNetLemmatizer\n",
    "import numpy as np\n",
    "import pandas as pd\n",
    "import seaborn as sns\n",
    "# import local libraries\n",
    "from mlf import read_patent_file, TICK_NAME"
   ]
  },
  {
   "cell_type": "markdown",
   "metadata": {},
   "source": [
    "## Download packages and declare some constants for NLP"
   ]
  },
  {
   "cell_type": "code",
   "execution_count": 2,
   "metadata": {},
   "outputs": [
    {
     "name": "stderr",
     "output_type": "stream",
     "text": [
      "[nltk_data] Downloading package punkt to\n",
      "[nltk_data]     /Users/williammartin/nltk_data...\n",
      "[nltk_data]   Unzipping tokenizers/punkt.zip.\n"
     ]
    },
    {
     "data": {
      "text/plain": [
       "True"
      ]
     },
     "execution_count": 2,
     "metadata": {},
     "output_type": "execute_result"
    }
   ],
   "source": [
    "nltk.download('punkt')"
   ]
  },
  {
   "cell_type": "code",
   "execution_count": 3,
   "metadata": {},
   "outputs": [
    {
     "name": "stderr",
     "output_type": "stream",
     "text": [
      "[nltk_data] Downloading package wordnet to\n",
      "[nltk_data]     /Users/williammartin/nltk_data...\n",
      "[nltk_data]   Unzipping corpora/wordnet.zip.\n"
     ]
    },
    {
     "data": {
      "text/plain": [
       "True"
      ]
     },
     "execution_count": 3,
     "metadata": {},
     "output_type": "execute_result"
    }
   ],
   "source": [
    "nltk.download('wordnet')"
   ]
  },
  {
   "cell_type": "code",
   "execution_count": 4,
   "metadata": {},
   "outputs": [
    {
     "name": "stderr",
     "output_type": "stream",
     "text": [
      "[nltk_data] Downloading package stopwords to\n",
      "[nltk_data]     /Users/williammartin/nltk_data...\n",
      "[nltk_data]   Unzipping corpora/stopwords.zip.\n"
     ]
    },
    {
     "data": {
      "text/plain": [
       "True"
      ]
     },
     "execution_count": 4,
     "metadata": {},
     "output_type": "execute_result"
    }
   ],
   "source": [
    "nltk.download('stopwords')"
   ]
  },
  {
   "cell_type": "code",
   "execution_count": 5,
   "metadata": {},
   "outputs": [
    {
     "name": "stderr",
     "output_type": "stream",
     "text": [
      "[nltk_data] Downloading package averaged_perceptron_tagger to\n",
      "[nltk_data]     /Users/williammartin/nltk_data...\n",
      "[nltk_data]   Unzipping taggers/averaged_perceptron_tagger.zip.\n"
     ]
    },
    {
     "data": {
      "text/plain": [
       "True"
      ]
     },
     "execution_count": 5,
     "metadata": {},
     "output_type": "execute_result"
    }
   ],
   "source": [
    "nltk.download('averaged_perceptron_tagger')"
   ]
  },
  {
   "cell_type": "code",
   "execution_count": 6,
   "metadata": {},
   "outputs": [],
   "source": [
    "# define english stopwords\n",
    "en_stop = nltk.corpus.stopwords.words('english')\n",
    "# add some stopwords\n",
    "en_stop.extend(['invention', 'present', 'thereof', 'wherein', 'herein', 'one', 'two', 'three',\n",
    "               'four', 'five', 'six', 'seven', 'eight', 'nine', 'ten', 'zero',\n",
    "               'first', 'second', 'third', 'fourth', 'fifth'])"
   ]
  },
  {
   "cell_type": "markdown",
   "metadata": {},
   "source": [
    "## Download data"
   ]
  },
  {
   "cell_type": "code",
   "execution_count": 9,
   "metadata": {},
   "outputs": [],
   "source": [
    "filepaths = glob.glob('data/patents/raw/*.gz')\n",
    "data = [read_patent_file(f) for f in filepaths]"
   ]
  },
  {
   "cell_type": "code",
   "execution_count": 10,
   "metadata": {},
   "outputs": [],
   "source": [
    "# read all dataframes in one big dataframe\n",
    "patents = pd.concat(data, axis=0)"
   ]
  },
  {
   "cell_type": "markdown",
   "metadata": {},
   "source": [
    "# Exploratory data analysis"
   ]
  },
  {
   "cell_type": "code",
   "execution_count": 11,
   "metadata": {},
   "outputs": [],
   "source": [
    "patents.dropna(how='all', inplace=True, axis=1)"
   ]
  },
  {
   "cell_type": "code",
   "execution_count": 12,
   "metadata": {},
   "outputs": [],
   "source": [
    "numeric_col = ['cited_patent_number', 'citedby_patent_number', 'num_inventor',\n",
    "              'patent_num_claims', 'patent_processing_time']\n",
    "date_col = ['app_date', 'patent_date']\n",
    "text_col = ['cpc_group_title', 'cpc_subgroup_title', 'cpc_subsection_title',\n",
    "            'nber_subcategory_title', 'patent_abstract', 'patent_title', \n",
    "            'uspc_mainclass_title', 'uspc_subclass_title',\n",
    "            'wipo_field_title', 'wipo_sector_title']\n",
    "cat_col = ['cpc_group_title', 'cpc_subgroup_title', 'cpc_subsection_title',\n",
    "          'nber_subcategory_title', 'uspc_mainclass_title', 'uspc_subclass_title',\n",
    "          'wipo_field_title', 'wipo_sector_title']\n",
    "text_col = ['patent_abstract', 'patent_title']"
   ]
  },
  {
   "cell_type": "code",
   "execution_count": 13,
   "metadata": {},
   "outputs": [],
   "source": [
    "# change type of certain columns\n",
    "patents[numeric_col] = patents[numeric_col].astype(np.float64)"
   ]
  },
  {
   "cell_type": "code",
   "execution_count": 14,
   "metadata": {},
   "outputs": [],
   "source": [
    "# change date columns to datetime objects\n",
    "for col in date_col:\n",
    "    patents[col] = pd.to_datetime(patents[col], format='%Y-%m-%d')"
   ]
  },
  {
   "cell_type": "code",
   "execution_count": 15,
   "metadata": {},
   "outputs": [
    {
     "data": {
      "text/plain": [
       "(11098, 21)"
      ]
     },
     "execution_count": 15,
     "metadata": {},
     "output_type": "execute_result"
    }
   ],
   "source": [
    "patents.shape"
   ]
  },
  {
   "cell_type": "code",
   "execution_count": 16,
   "metadata": {},
   "outputs": [
    {
     "data": {
      "text/plain": [
       "Index(['app_date', 'app_number', 'assignee_organization',\n",
       "       'cited_patent_number', 'citedby_patent_number', 'cpc_group_title',\n",
       "       'cpc_subgroup_title', 'cpc_subsection_title', 'num_inventor',\n",
       "       'nber_subcategory_title', 'patent_abstract', 'patent_date',\n",
       "       'patent_num_claims', 'patent_number', 'patent_processing_time',\n",
       "       'patent_title', 'uspc_mainclass_title', 'uspc_subclass_title',\n",
       "       'wipo_field_title', 'wipo_sector_title', 'ticker'],\n",
       "      dtype='object')"
      ]
     },
     "execution_count": 16,
     "metadata": {},
     "output_type": "execute_result"
    }
   ],
   "source": [
    "patents.columns"
   ]
  },
  {
   "cell_type": "code",
   "execution_count": 17,
   "metadata": {},
   "outputs": [
    {
     "data": {
      "text/html": [
       "<div>\n",
       "<style scoped>\n",
       "    .dataframe tbody tr th:only-of-type {\n",
       "        vertical-align: middle;\n",
       "    }\n",
       "\n",
       "    .dataframe tbody tr th {\n",
       "        vertical-align: top;\n",
       "    }\n",
       "\n",
       "    .dataframe thead th {\n",
       "        text-align: right;\n",
       "    }\n",
       "</style>\n",
       "<table border=\"1\" class=\"dataframe\">\n",
       "  <thead>\n",
       "    <tr style=\"text-align: right;\">\n",
       "      <th></th>\n",
       "      <th>#nan</th>\n",
       "    </tr>\n",
       "  </thead>\n",
       "  <tbody>\n",
       "    <tr>\n",
       "      <th>cpc_group_title</th>\n",
       "      <td>532</td>\n",
       "    </tr>\n",
       "    <tr>\n",
       "      <th>cpc_subgroup_title</th>\n",
       "      <td>532</td>\n",
       "    </tr>\n",
       "    <tr>\n",
       "      <th>cpc_subsection_title</th>\n",
       "      <td>532</td>\n",
       "    </tr>\n",
       "    <tr>\n",
       "      <th>nber_subcategory_title</th>\n",
       "      <td>7742</td>\n",
       "    </tr>\n",
       "    <tr>\n",
       "      <th>patent_abstract</th>\n",
       "      <td>360</td>\n",
       "    </tr>\n",
       "    <tr>\n",
       "      <th>uspc_mainclass_title</th>\n",
       "      <td>3319</td>\n",
       "    </tr>\n",
       "    <tr>\n",
       "      <th>uspc_subclass_title</th>\n",
       "      <td>7548</td>\n",
       "    </tr>\n",
       "    <tr>\n",
       "      <th>wipo_field_title</th>\n",
       "      <td>534</td>\n",
       "    </tr>\n",
       "    <tr>\n",
       "      <th>wipo_sector_title</th>\n",
       "      <td>534</td>\n",
       "    </tr>\n",
       "  </tbody>\n",
       "</table>\n",
       "</div>"
      ],
      "text/plain": [
       "                        #nan\n",
       "cpc_group_title          532\n",
       "cpc_subgroup_title       532\n",
       "cpc_subsection_title     532\n",
       "nber_subcategory_title  7742\n",
       "patent_abstract          360\n",
       "uspc_mainclass_title    3319\n",
       "uspc_subclass_title     7548\n",
       "wipo_field_title         534\n",
       "wipo_sector_title        534"
      ]
     },
     "execution_count": 17,
     "metadata": {},
     "output_type": "execute_result"
    }
   ],
   "source": [
    "# get number of missing observations in each column\n",
    "patents_missing = patents.isna().sum()\n",
    "patents_missing = patents_missing[patents_missing > 0]\n",
    "pd.DataFrame(data = patents_missing, columns=['#nan'])"
   ]
  },
  {
   "cell_type": "markdown",
   "metadata": {},
   "source": [
    "Most features that have nan values are actually text cells, all the rest seems good. Let's concantenate all text info together for some NLP"
   ]
  },
  {
   "cell_type": "code",
   "execution_count": 18,
   "metadata": {},
   "outputs": [
    {
     "data": {
      "text/plain": [
       "<AxesSubplot:xlabel='citedby_patent_number', ylabel='Count'>"
      ]
     },
     "execution_count": 18,
     "metadata": {},
     "output_type": "execute_result"
    },
    {
     "data": {
      "image/png": "[encoded data removed]",
      "text/plain": [
       "<Figure size 864x576 with 4 Axes>"
      ]
     },
     "metadata": {
      "needs_background": "light"
     },
     "output_type": "display_data"
    }
   ],
   "source": [
    "# plot histogram of numerical features\n",
    "fig, ax = plt.subplots(figsize=(12, 8), nrows=2, ncols=2)\n",
    "sns.histplot(patents['num_inventor'], bins=20, ax=ax[0, 0])\n",
    "sns.histplot(patents['patent_num_claims'], bins=20, ax=ax[0, 1])\n",
    "sns.histplot(patents['cited_patent_number'], bins=20, ax=ax[1, 0])\n",
    "sns.histplot(patents['citedby_patent_number'], bins=20, ax=ax[1, 1])"
   ]
  },
  {
   "cell_type": "code",
   "execution_count": 19,
   "metadata": {},
   "outputs": [
    {
     "name": "stderr",
     "output_type": "stream",
     "text": [
      "/Users/williammartin/anaconda3/envs/epfl/lib/python3.7/site-packages/ipykernel_launcher.py:2: FutureWarning: Treating datetime data as categorical rather than numeric in `.describe` is deprecated and will be removed in a future version of pandas. Specify `datetime_is_numeric=True` to silence this warning and adopt the future behavior now.\n",
      "  \n",
      "/Users/williammartin/anaconda3/envs/epfl/lib/python3.7/site-packages/ipykernel_launcher.py:2: FutureWarning: Treating datetime data as categorical rather than numeric in `.describe` is deprecated and will be removed in a future version of pandas. Specify `datetime_is_numeric=True` to silence this warning and adopt the future behavior now.\n",
      "  \n"
     ]
    },
    {
     "data": {
      "text/html": [
       "<div>\n",
       "<style scoped>\n",
       "    .dataframe tbody tr th:only-of-type {\n",
       "        vertical-align: middle;\n",
       "    }\n",
       "\n",
       "    .dataframe tbody tr th {\n",
       "        vertical-align: top;\n",
       "    }\n",
       "\n",
       "    .dataframe thead th {\n",
       "        text-align: right;\n",
       "    }\n",
       "</style>\n",
       "<table border=\"1\" class=\"dataframe\">\n",
       "  <thead>\n",
       "    <tr style=\"text-align: right;\">\n",
       "      <th></th>\n",
       "      <th>app_date</th>\n",
       "      <th>patent_date</th>\n",
       "    </tr>\n",
       "  </thead>\n",
       "  <tbody>\n",
       "    <tr>\n",
       "      <th>count</th>\n",
       "      <td>11098</td>\n",
       "      <td>11098</td>\n",
       "    </tr>\n",
       "    <tr>\n",
       "      <th>unique</th>\n",
       "      <td>2325</td>\n",
       "      <td>506</td>\n",
       "    </tr>\n",
       "    <tr>\n",
       "      <th>top</th>\n",
       "      <td>2013-03-15 00:00:00</td>\n",
       "      <td>2017-05-23 00:00:00</td>\n",
       "    </tr>\n",
       "    <tr>\n",
       "      <th>freq</th>\n",
       "      <td>49</td>\n",
       "      <td>45</td>\n",
       "    </tr>\n",
       "    <tr>\n",
       "      <th>first</th>\n",
       "      <td>2010-01-04 00:00:00</td>\n",
       "      <td>2010-08-31 00:00:00</td>\n",
       "    </tr>\n",
       "    <tr>\n",
       "      <th>last</th>\n",
       "      <td>2019-12-20 00:00:00</td>\n",
       "      <td>2020-09-29 00:00:00</td>\n",
       "    </tr>\n",
       "  </tbody>\n",
       "</table>\n",
       "</div>"
      ],
      "text/plain": [
       "                   app_date          patent_date\n",
       "count                 11098                11098\n",
       "unique                 2325                  506\n",
       "top     2013-03-15 00:00:00  2017-05-23 00:00:00\n",
       "freq                     49                   45\n",
       "first   2010-01-04 00:00:00  2010-08-31 00:00:00\n",
       "last    2019-12-20 00:00:00  2020-09-29 00:00:00"
      ]
     },
     "execution_count": 19,
     "metadata": {},
     "output_type": "execute_result"
    }
   ],
   "source": [
    "# investigate dates\n",
    "patents[date_col].describe()"
   ]
  },
  {
   "cell_type": "code",
   "execution_count": 20,
   "metadata": {},
   "outputs": [],
   "source": [
    "# investigate occurences of wipo sector accross years\n",
    "wipo_sector = patents[['patent_date', 'wipo_sector_title']]\n",
    "wipo_sector = wipo_sector.sort_values('patent_date')\n",
    "wipo_sector['year'] = wipo_sector['patent_date'].apply(lambda x: x.year)\n",
    "wipo_sector = wipo_sector.drop(columns='patent_date').reset_index(drop=True)\n",
    "wipo_sector = wipo_sector.dropna(how='any')\n",
    "wipo_sector['wipo_sector_title'] = wipo_sector['wipo_sector_title'].str.split(' ')\n",
    "wipo_sector['wipo_sector_title'] = wipo_sector['wipo_sector_title'].apply(lambda x: list(set(x)))\n",
    "wipo_sector = wipo_sector.explode('wipo_sector_title')\n",
    "wipo_sector = wipo_sector[(wipo_sector['year'] < 2020) & (wipo_sector['year'] > 2011)]"
   ]
  },
  {
   "cell_type": "code",
   "execution_count": 21,
   "metadata": {},
   "outputs": [
    {
     "data": {
      "text/plain": [
       "<AxesSubplot:xlabel='year', ylabel='count'>"
      ]
     },
     "execution_count": 21,
     "metadata": {},
     "output_type": "execute_result"
    },
    {
     "data": {
      "image/png": "[encoded data removed]",
      "text/plain": [
       "<Figure size 864x288 with 1 Axes>"
      ]
     },
     "metadata": {
      "needs_background": "light"
     },
     "output_type": "display_data"
    }
   ],
   "source": [
    "fig, ax = plt.subplots(figsize=(12, 4))\n",
    "sns.countplot(x='year', data=wipo_sector, hue='wipo_sector_title', ax=ax)"
   ]
  },
  {
   "cell_type": "code",
   "execution_count": 22,
   "metadata": {},
   "outputs": [],
   "source": [
    "# investigate wipo fields across the years\n",
    "wipo_field = patents[['patent_date', 'wipo_field_title']]\n",
    "wipo_field = wipo_field.sort_values('patent_date')\n",
    "wipo_field['year'] = wipo_field['patent_date'].apply(lambda x: x.year)\n",
    "wipo_field = wipo_field.drop(columns='patent_date').reset_index(drop=True)\n",
    "wipo_field = wipo_field.dropna(how='any')\n",
    "wipo_field['wipo_field_title'] = wipo_field['wipo_field_title'].apply(lambda x: re.findall('[A-Z][^A-Z]*', x))\n",
    "wipo_field['wipo_field_title'] = wipo_field['wipo_field_title'].apply(lambda x: list(set(x)))\n",
    "wipo_field = wipo_field.explode('wipo_field_title')\n",
    "wipo_field['wipo_field_title'] = wipo_field['wipo_field_title'].str.strip()\n",
    "wipo_field = wipo_field[(wipo_field['year'] < 2020) & (wipo_field['year'] > 2011)]"
   ]
  },
  {
   "cell_type": "code",
   "execution_count": 23,
   "metadata": {},
   "outputs": [
    {
     "data": {
      "image/png": "[encoded data removed]",
      "text/plain": [
       "<Figure size 432x720 with 1 Axes>"
      ]
     },
     "metadata": {
      "needs_background": "light"
     },
     "output_type": "display_data"
    }
   ],
   "source": [
    "fig, ax = plt.subplots(figsize=(6, 10))\n",
    "ax = sns.countplot(y='year', data=wipo_field, hue='wipo_field_title', ax=ax)\n",
    "ax.legend(loc='right', bbox_to_anchor=(1.75, 0.5), ncol=1)\n",
    "ax.set_xscale('log')"
   ]
  },
  {
   "cell_type": "markdown",
   "metadata": {},
   "source": [
    "# Data cleaning"
   ]
  },
  {
   "cell_type": "code",
   "execution_count": 24,
   "metadata": {},
   "outputs": [],
   "source": [
    "# remove patent date beyond 2019-12-31\n",
    "patents_cleaned = patents[patents['patent_date'] <= '2019-12-31']"
   ]
  },
  {
   "cell_type": "code",
   "execution_count": 25,
   "metadata": {},
   "outputs": [],
   "source": [
    "last_patent_date = patents_cleaned['patent_date'].max()\n",
    "# since we are trying to predict returns x days after patent date, we need to filter again \n",
    "# we assume the maximum value for x to be 30 days\n",
    "patents_cleaned = patents_cleaned[patents_cleaned['patent_date'] <= last_patent_date-timedelta(days=30)]"
   ]
  },
  {
   "cell_type": "code",
   "execution_count": 26,
   "metadata": {},
   "outputs": [
    {
     "data": {
      "text/plain": [
       "(10063, 21)"
      ]
     },
     "execution_count": 26,
     "metadata": {},
     "output_type": "execute_result"
    }
   ],
   "source": [
    "patents_cleaned.shape"
   ]
  },
  {
   "cell_type": "markdown",
   "metadata": {},
   "source": [
    "## Text cleaning"
   ]
  },
  {
   "cell_type": "code",
   "execution_count": 27,
   "metadata": {},
   "outputs": [],
   "source": [
    "# clean nan strings\n",
    "patents_cleaned[text_col] = patents_cleaned[text_col].fillna('')\n",
    "patents_cleaned[cat_col] = patents_cleaned[cat_col].fillna('')"
   ]
  },
  {
   "cell_type": "code",
   "execution_count": 28,
   "metadata": {},
   "outputs": [],
   "source": [
    "# for CPC, USPC, NBER, and WIPO columns, we remove duplicate words since \n",
    "# these features have been duplicated since the beginning\n",
    "patents_cleaned[cat_col] = patents_cleaned[cat_col].applymap(lambda x: ' '.join(list(set(x.lower().split(' ')))))"
   ]
  },
  {
   "cell_type": "code",
   "execution_count": 29,
   "metadata": {},
   "outputs": [],
   "source": [
    "# create column with all text\n",
    "patents_cleaned['text'] = patents_cleaned[text_col].apply(lambda x: ' '.join(x), axis=1)"
   ]
  },
  {
   "cell_type": "code",
   "execution_count": 30,
   "metadata": {},
   "outputs": [],
   "source": [
    "# define some function that cleans text and tokenizes\n",
    "def tokenize(text):\n",
    "    # remove any non alphanumeric character\n",
    "    text = re.sub('[^a-zA-Z0-9]', ' ', text)\n",
    "    # lowercase\n",
    "    text = text.lower()\n",
    "    # handle numbers\n",
    "    text = re.sub('[0-9]+', ' ', text)\n",
    "    # handle urls\n",
    "    text = re.sub('(http|https)://[^\\s]*', ' ', text)\n",
    "    # handle email adresses\n",
    "    text = re.sub('[^\\s]+@[^\\s]+', ' ', text)\n",
    "    # handle $ sign\n",
    "    text = re.sub('[$]+', ' ', text)\n",
    "    # remove punctuation\n",
    "    text = ''.join([t for t in text if t not in string.punctuation])\n",
    "    # remove the extra spaces between words\n",
    "    text = re.sub(' +', ' ', text)\n",
    "    # tokenize\n",
    "    tokens = word_tokenize(text)\n",
    "    \n",
    "    return tokens"
   ]
  },
  {
   "cell_type": "code",
   "execution_count": 31,
   "metadata": {},
   "outputs": [],
   "source": [
    "# remove words that are smaller than 2 characters\n",
    "def remove_smallwords(tokens):\n",
    "    return [t for t in tokens if len(t) > 2]"
   ]
  },
  {
   "cell_type": "code",
   "execution_count": 32,
   "metadata": {},
   "outputs": [],
   "source": [
    "# filter out stopwords from the english dictionary\n",
    "def remove_stopwords(tokens):\n",
    "    return [t for t in tokens if t not in en_stop]"
   ]
  },
  {
   "cell_type": "code",
   "execution_count": 33,
   "metadata": {},
   "outputs": [],
   "source": [
    "# remove verbs\n",
    "def filter_pos_tags(tokens):\n",
    "    tagged = nltk.pos_tag(tokens)\n",
    "    return [t[0] for t in tagged if not t[1].startswith('V')]"
   ]
  },
  {
   "cell_type": "code",
   "execution_count": 34,
   "metadata": {},
   "outputs": [],
   "source": [
    "# use morphy to lemmatize in a first step\n",
    "def get_lemma(word):\n",
    "    lemma = wn.morphy(word)\n",
    "    if lemma is None:\n",
    "        return word\n",
    "    else:\n",
    "        return lemma"
   ]
  },
  {
   "cell_type": "code",
   "execution_count": 35,
   "metadata": {},
   "outputs": [],
   "source": [
    "# user WordNetLemmatizer to lemmatize in a second step (removes conjugation for example)\n",
    "def get_lemma2(word):\n",
    "    return WordNetLemmatizer().lemmatize(word)"
   ]
  },
  {
   "cell_type": "code",
   "execution_count": 36,
   "metadata": {},
   "outputs": [],
   "source": [
    "def text_lda(text):\n",
    "    tokens = tokenize(text)\n",
    "    tokens = remove_smallwords(tokens)\n",
    "    tokens = remove_stopwords(tokens)\n",
    "    tokens = filter_pos_tags(tokens)\n",
    "    tokens = [get_lemma(t) for t in tokens]\n",
    "    tokens = [get_lemma2(t) for t in tokens]\n",
    "    return tokens"
   ]
  },
  {
   "cell_type": "code",
   "execution_count": 40,
   "metadata": {},
   "outputs": [],
   "source": [
    "# perform text cleaning, tokenization and lemmatization of text of every patent\n",
    "patents_cleaned['text'] = patents_cleaned['text'].apply(text_lda)"
   ]
  },
  {
   "cell_type": "code",
   "execution_count": 41,
   "metadata": {},
   "outputs": [],
   "source": [
    "# add a column with number of unique tokens\n",
    "patents_cleaned['num_tokens'] = patents_cleaned['text'].apply(lambda x: len(list(set(x))))"
   ]
  },
  {
   "cell_type": "code",
   "execution_count": 42,
   "metadata": {},
   "outputs": [
    {
     "data": {
      "text/plain": [
       "count    10063.000000\n",
       "mean        19.707542\n",
       "std          9.746327\n",
       "min          1.000000\n",
       "25%         13.000000\n",
       "50%         18.000000\n",
       "75%         25.000000\n",
       "max         87.000000\n",
       "Name: num_tokens, dtype: float64"
      ]
     },
     "execution_count": 42,
     "metadata": {},
     "output_type": "execute_result"
    }
   ],
   "source": [
    "patents_cleaned['num_tokens'].describe()"
   ]
  },
  {
   "cell_type": "code",
   "execution_count": 49,
   "metadata": {},
   "outputs": [],
   "source": [
    "patents_cleaned = patents_cleaned.drop(columns=['num_tokens'])"
   ]
  },
  {
   "cell_type": "code",
   "execution_count": 50,
   "metadata": {},
   "outputs": [],
   "source": [
    "# join list of tokens into text before saving to csv\n",
    "patents_cleaned['text'] = patents_cleaned['text'].apply(lambda x: ' '.join(x))"
   ]
  },
  {
   "cell_type": "code",
   "execution_count": 52,
   "metadata": {},
   "outputs": [],
   "source": [
    "# save to csv\n",
    "filename = 'data/patents/clean/patents.csv.gz'\n",
    "patents_cleaned.to_csv(filename, compression='gzip', index=False)"
   ]
  },
  {
   "cell_type": "code",
   "execution_count": null,
   "metadata": {},
   "outputs": [],
   "source": []
  }
 ],
 "metadata": {
  "kernelspec": {
   "display_name": "Python 3",
   "language": "python",
   "name": "python3"
  },
  "language_info": {
   "codemirror_mode": {
    "name": "ipython",
    "version": 3
   },
   "file_extension": ".py",
   "mimetype": "text/x-python",
   "name": "python",
   "nbconvert_exporter": "python",
   "pygments_lexer": "ipython3",
   "version": "3.8.5"
  },
  "varInspector": {
   "cols": {
    "lenName": 16,
    "lenType": 16,
    "lenVar": 40
   },
   "kernels_config": {
    "python": {
     "delete_cmd_postfix": "",
     "delete_cmd_prefix": "del ",
     "library": "var_list.py",
     "varRefreshCmd": "print(var_dic_list())"
    },
    "r": {
     "delete_cmd_postfix": ") ",
     "delete_cmd_prefix": "rm(",
     "library": "var_list.r",
     "varRefreshCmd": "cat(var_dic_list()) "
    }
   },
   "types_to_exclude": [
    "module",
    "function",
    "builtin_function_or_method",
    "instance",
    "_Feature"
   ],
   "window_display": false
  }
 },
 "nbformat": 4,
 "nbformat_minor": 4
}
