{
 "cells": [
  {
   "cell_type": "code",
   "execution_count": 5,
   "metadata": {},
   "outputs": [],
   "source": [
    "# import standard libraries\n",
    "# import third-party libraries\n",
    "from sklearn.decomposition import PCA\n",
    "from sklearn.model_selection import train_test_split\n",
    "from sklearn.feature_selection import SelectKBest, f_regression\n",
    "from sklearn.model_selection import GridSearchCV\n",
    "# import local libraries\n",
    "from mlf import LinearRegressor, SVMRegressor, SVMClassifier"
   ]
  },
  {
   "cell_type": "code",
   "execution_count": 8,
   "metadata": {},
   "outputs": [
    {
     "name": "stderr",
     "output_type": "stream",
     "text": [
      "/home/williammartin/miniconda3/envs/epfl/lib/python3.8/site-packages/pandas/core/indexing.py:1745: SettingWithCopyWarning: \n",
      "A value is trying to be set on a copy of a slice from a DataFrame.\n",
      "Try using .loc[row_indexer,col_indexer] = value instead\n",
      "\n",
      "See the caveats in the documentation: https://pandas.pydata.org/pandas-docs/stable/user_guide/indexing.html#returning-a-view-versus-a-copy\n",
      "  isetter(ilocs[0], value)\n",
      "/home/williammartin/Github/mlf-project/mlf/mlf_utils.py:110: SettingWithCopyWarning: \n",
      "A value is trying to be set on a copy of a slice from a DataFrame.\n",
      "Try using .loc[row_indexer,col_indexer] = value instead\n",
      "\n",
      "See the caveats in the documentation: https://pandas.pydata.org/pandas-docs/stable/user_guide/indexing.html#returning-a-view-versus-a-copy\n",
      "  X['num_app_prior'] = np.nan\n"
     ]
    }
   ],
   "source": [
    "reg = SVMClassifier()\n",
    "_, _ = reg.generate_xy(num_topics=20, num_days=30)\n",
    "_ = reg.scale_x()"
   ]
  },
  {
   "cell_type": "code",
   "execution_count": 11,
   "metadata": {},
   "outputs": [
    {
     "name": "stdout",
     "output_type": "stream",
     "text": [
      "[0.0837398  0.06686582 0.0515958  0.04892306 0.04847875 0.04600053\n",
      " 0.04518066 0.04424915 0.04168243 0.04116641]\n",
      "[142.62710531 127.44951498 111.95494605 109.01666747 108.52051182\n",
      " 105.71035349 104.76407671 103.67847255 100.62655573 100.00175463]\n"
     ]
    }
   ],
   "source": [
    "pca = PCA(n_components=10)\n",
    "pca = pca.fit(reg.X_scaled)\n",
    "print(pca.explained_variance_ratio_)\n",
    "print(pca.singular_values_)\n",
    "X = pca.transform(reg.X_scaled)"
   ]
  },
  {
   "cell_type": "code",
   "execution_count": null,
   "metadata": {},
   "outputs": [],
   "source": [
    "sk = SelectKBest(score_func=f_regression, k=10)\n",
    "sk = sk.fit(reg.X_scaled, reg.y['y_bin'])\n",
    "X = sk.transform(reg.X_scaled)"
   ]
  },
  {
   "cell_type": "code",
   "execution_count": 12,
   "metadata": {},
   "outputs": [
    {
     "name": "stdout",
     "output_type": "stream",
     "text": [
      "0.8514087225009649\n",
      "0.5622427983539094\n"
     ]
    }
   ],
   "source": [
    "param_grid = {'C': [1, 10, 50, 1000],\n",
    "              'gamma': [1, 0.3, 0.1, 0.01]}\n",
    "\n",
    "# separate train and test\n",
    "X_train, X_test, y_train, y_test = train_test_split(X,\n",
    "                                                    reg.y['y_bin'],\n",
    "                                                    test_size=0.2)\n",
    "\n",
    "cv = GridSearchCV(reg, param_grid)\n",
    "cv = cv.fit(X_train, y_train)\n",
    "print(cv.score(X_train, y_train))\n",
    "print(cv.score(X_test, y_test))\n",
    "\n",
    "# reg = reg.fit(X_train, y_train)\n",
    "# print(reg.score(X_train, y_train))\n",
    "# print(reg.score(X_test, y_test))"
   ]
  },
  {
   "cell_type": "code",
   "execution_count": null,
   "metadata": {},
   "outputs": [],
   "source": []
  }
 ],
 "metadata": {
  "kernelspec": {
   "display_name": "Python 3",
   "language": "python",
   "name": "python3"
  },
  "language_info": {
   "codemirror_mode": {
    "name": "ipython",
    "version": 3
   },
   "file_extension": ".py",
   "mimetype": "text/x-python",
   "name": "python",
   "nbconvert_exporter": "python",
   "pygments_lexer": "ipython3",
   "version": "3.8.5"
  },
  "varInspector": {
   "cols": {
    "lenName": 16,
    "lenType": 16,
    "lenVar": 40
   },
   "kernels_config": {
    "python": {
     "delete_cmd_postfix": "",
     "delete_cmd_prefix": "del ",
     "library": "var_list.py",
     "varRefreshCmd": "print(var_dic_list())"
    },
    "r": {
     "delete_cmd_postfix": ") ",
     "delete_cmd_prefix": "rm(",
     "library": "var_list.r",
     "varRefreshCmd": "cat(var_dic_list()) "
    }
   },
   "types_to_exclude": [
    "module",
    "function",
    "builtin_function_or_method",
    "instance",
    "_Feature"
   ],
   "window_display": false
  }
 },
 "nbformat": 4,
 "nbformat_minor": 4
}
